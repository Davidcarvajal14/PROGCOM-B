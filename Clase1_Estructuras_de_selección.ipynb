{
  "nbformat": 4,
  "nbformat_minor": 0,
  "metadata": {
    "colab": {
      "provenance": [],
      "authorship_tag": "ABX9TyPtBcJRIokLpYTbiAsj7ODv",
      "include_colab_link": true
    },
    "kernelspec": {
      "name": "python3",
      "display_name": "Python 3"
    },
    "language_info": {
      "name": "python"
    }
  },
  "cells": [
    {
      "cell_type": "markdown",
      "metadata": {
        "id": "view-in-github",
        "colab_type": "text"
      },
      "source": [
        "<a href=\"https://colab.research.google.com/github/Davidcarvajal14/PROGCOM-B/blob/main/Clase1_Estructuras_de_selecci%C3%B3n.ipynb\" target=\"_parent\"><img src=\"https://colab.research.google.com/assets/colab-badge.svg\" alt=\"Open In Colab\"/></a>"
      ]
    },
    {
      "cell_type": "markdown",
      "source": [
        "#Estructuras de seleccion\n",
        "Se emplean cuando quiero evaluarb una condicion. El resultado de la evaluacion de esta condicion siempre se da en Booleano (V O f)"
      ],
      "metadata": {
        "id": "XnTRpJBFLb68"
      }
    },
    {
      "cell_type": "markdown",
      "source": [
        "## Estructura if-else\n",
        "\n",
        "\n",
        "\n",
        "```\n",
        "if (condicion):\n",
        "    entro aqui si la condicion dio V\n",
        "else:\n",
        "    entro aquyi si la condicion = F\n",
        "```\n",
        "\n"
      ],
      "metadata": {
        "id": "_M6rIutcL0XU"
      }
    },
    {
      "cell_type": "markdown",
      "source": [
        "7. Año bisiesto"
      ],
      "metadata": {
        "id": "109YT9NkMnX7"
      }
    },
    {
      "cell_type": "code",
      "execution_count": 2,
      "metadata": {
        "colab": {
          "base_uri": "https://localhost:8080/"
        },
        "id": "NpAmO0CEK7Js",
        "outputId": "fa9d9783-4d23-4064-e618-4da9f2402f23"
      },
      "outputs": [
        {
          "output_type": "stream",
          "name": "stdout",
          "text": [
            "Introduzca un año: 2024\n",
            "2024 es un año bisiesto\n"
          ]
        }
      ],
      "source": [
        "#1. Es divisible entre 4\n",
        "#2. Es divisible entre 400 pero no entre 100\n",
        "año= int(input(\"Introduzca un año: \"))\n",
        "if (año%4==0 and año%100!=0):\n",
        "    print(f\"{año} es un año bisiesto\")\n",
        "else:\n",
        "    if(año%400==0):\n",
        "        print(f\"{año} es un año bisiesto\")\n",
        "    else:\n",
        "        print(f\"{año} No es un año bisiesto\")"
      ]
    },
    {
      "cell_type": "markdown",
      "source": [
        "## Estructura de decision multiplke if-elif-else\n",
        "se emplea cuando hay mas de una decision\n",
        "\n",
        "\n",
        "```\n",
        "if (cond1):\n",
        "    si cond1 es verdadero, entro aqui\n",
        "elif (cond2):\n",
        "    si cond1 es falso, Pero cond2 es verdader, entro aqui\n",
        "elif (cond3):\n",
        "    si cond1 y cond2 son falso, Pero cond3 es verdadero, entro aqui\n",
        "else: si cond1 y cond2 y cond3 y cond n son falsas, entrara aqui.\n",
        "```\n",
        "\n"
      ],
      "metadata": {
        "id": "kmfMwysWO7u3"
      }
    },
    {
      "cell_type": "code",
      "source": [
        "if (año%4==0 and año%100!=0): print(f\"{año} es un año bisiesto\")\n",
        "elif(año%400==0): print(f\"{año} es un año bisiesto\")\n",
        "else:print(f\"{año} No es un año bisiesto\")"
      ],
      "metadata": {
        "colab": {
          "base_uri": "https://localhost:8080/"
        },
        "id": "a9TV74gHQA8V",
        "outputId": "bd39bf57-4c6f-4e0e-9390-bd1787dc68c8"
      },
      "execution_count": 5,
      "outputs": [
        {
          "output_type": "stream",
          "name": "stdout",
          "text": [
            "2024 es un año bisiesto\n"
          ]
        }
      ]
    },
    {
      "cell_type": "markdown",
      "source": [
        "## Operadpr terniario\n",
        "programar una estructura de seleccion en una sola linea de codigo\n",
        "\n",
        "\n",
        "```\n",
        "(lo que se debe ejecutar, si la condicion es verdadera) if (condicion) else (lo que se debe ejecutar, si la condicion es falsa)\n",
        "```\n",
        "\n"
      ],
      "metadata": {
        "id": "gFt7_1i_VHmk"
      }
    },
    {
      "cell_type": "code",
      "source": [
        "print(f\"{año} es un año bisiesto\") if (año%4==0 and año%100!=0) else (print(f\"{año} es un año bisiesto\")) if (año%400==0) else (print(f\"{año} No es un año bisiesto\"))"
      ],
      "metadata": {
        "colab": {
          "base_uri": "https://localhost:8080/"
        },
        "id": "ZY5K8VlkVtJr",
        "outputId": "b0ee69bf-a344-4cfd-a4b3-c413610f1c00"
      },
      "execution_count": 15,
      "outputs": [
        {
          "output_type": "stream",
          "name": "stdout",
          "text": [
            "2024 es un año bisiesto\n"
          ]
        }
      ]
    },
    {
      "cell_type": "code",
      "source": [
        "c= (f\"{año} es un año bisiesto\") if (año%4==0 and año%100!=0) else d\n",
        "d= (f\"{año} es un año bisiesto\") if (año%400==0) else (f\"{año} No es un año bisiesto\")\n",
        "print(c)"
      ],
      "metadata": {
        "colab": {
          "base_uri": "https://localhost:8080/"
        },
        "id": "k4RdGaazZHO-",
        "outputId": "e7d92b68-305a-4eb4-96e2-993e5b699517"
      },
      "execution_count": 39,
      "outputs": [
        {
          "output_type": "stream",
          "name": "stdout",
          "text": [
            "2024 es un año bisiesto\n"
          ]
        }
      ]
    },
    {
      "cell_type": "markdown",
      "source": [
        "##1\tEscribe un programa que reciba un número e indique si es positivo."
      ],
      "metadata": {
        "id": "kWkVFDpWTp-A"
      }
    },
    {
      "cell_type": "code",
      "source": [
        "numero= int(input(\"ingrese un numero\"))\n",
        "if numero > 0:\n",
        "    print(f\"{numero} Es un numero positivo\")\n",
        "else:\n",
        "    print(f\"{numero} No es un numero positivo\")"
      ],
      "metadata": {
        "colab": {
          "base_uri": "https://localhost:8080/"
        },
        "id": "g5CYCpysTyhe",
        "outputId": "04776ce3-1dc7-4574-f217-2ce436864354"
      },
      "execution_count": 11,
      "outputs": [
        {
          "output_type": "stream",
          "name": "stdout",
          "text": [
            "ingrese un numero0\n",
            "0 No es un numero positivo\n"
          ]
        }
      ]
    },
    {
      "cell_type": "code",
      "source": [
        "if numero > 0: print(f\"{numero} Es un numero positivo\")\n",
        "elif numero == 0: print(f\"{numero} No es positivo ni negativo, es un numero neutro\")\n",
        "else: print(f\"{numero} No es un numero positivo\")"
      ],
      "metadata": {
        "colab": {
          "base_uri": "https://localhost:8080/"
        },
        "id": "u6HGtuGyUVEG",
        "outputId": "6c255019-eed5-4a59-a032-62f89be76e39"
      },
      "execution_count": 12,
      "outputs": [
        {
          "output_type": "stream",
          "name": "stdout",
          "text": [
            "0 No es positivo ni negativo, es un numero neutro\n"
          ]
        }
      ]
    },
    {
      "cell_type": "code",
      "source": [
        "print(f\"{numero} Es un numero positivo\") if (numero > 0) else print(f\"{numero} No es un numero positivo\")"
      ],
      "metadata": {
        "colab": {
          "base_uri": "https://localhost:8080/"
        },
        "id": "y-v_-oRxanej",
        "outputId": "5254f706-6173-45b6-bddf-d3ca54e91fb8"
      },
      "execution_count": 25,
      "outputs": [
        {
          "output_type": "stream",
          "name": "stdout",
          "text": [
            "0 No es un numero positivo\n"
          ]
        }
      ]
    },
    {
      "cell_type": "markdown",
      "source": [
        "##2\tEscribe un programa que reciba una edad y determine si la persona es mayor de edad."
      ],
      "metadata": {
        "id": "GNatDI-6WZtC"
      }
    },
    {
      "cell_type": "code",
      "source": [
        "edad= int(input(\"Digita tu edad\"))\n",
        "if edad >= 18:\n",
        "    print(\"eres mayor de edad\")\n",
        "else:\n",
        "    print(\"no eres mayor de edad\")"
      ],
      "metadata": {
        "colab": {
          "base_uri": "https://localhost:8080/"
        },
        "id": "OrmRL5Z7WfNp",
        "outputId": "f50b1e7f-c9bc-4aea-9fdf-6db0de060ea9"
      },
      "execution_count": 30,
      "outputs": [
        {
          "output_type": "stream",
          "name": "stdout",
          "text": [
            "Digita tu edad16\n",
            "no eres mayor de edad\n"
          ]
        }
      ]
    },
    {
      "cell_type": "code",
      "source": [
        "if edad >= 21: print(\"eres mayor de edad en USA y Colombia\")\n",
        "elif edad >= 18: print(\"eres mayor de edad en Colombia\")\n",
        "else:print(\"no eres mayor de edad en Colombia ni en USA\")"
      ],
      "metadata": {
        "colab": {
          "base_uri": "https://localhost:8080/"
        },
        "id": "Gbk43fw-Wtcx",
        "outputId": "b7e41f0b-3813-4163-8861-7901e1345b0d"
      },
      "execution_count": 33,
      "outputs": [
        {
          "output_type": "stream",
          "name": "stdout",
          "text": [
            "no eres mayor de edad en Colombia ni en USA\n"
          ]
        }
      ]
    },
    {
      "cell_type": "code",
      "source": [
        " print(\"eres mayor de edad\") if (edad >= 18) else print(\"no eres mayor de edad\")"
      ],
      "metadata": {
        "colab": {
          "base_uri": "https://localhost:8080/"
        },
        "id": "aIL182crb5Uh",
        "outputId": "b1c5f2c0-dd5c-4c76-ac69-06ba49e5cbab"
      },
      "execution_count": 31,
      "outputs": [
        {
          "output_type": "stream",
          "name": "stdout",
          "text": [
            "no eres mayor de edad\n"
          ]
        }
      ]
    },
    {
      "cell_type": "markdown",
      "source": [
        "## 3\tEscribe un programa que reciba dos números e imprima el mayor."
      ],
      "metadata": {
        "id": "Fw5VbdUecfUI"
      }
    },
    {
      "cell_type": "code",
      "source": [
        "a= int(input(\"digite un numero\"))\n",
        "b= int(input(\"digite otro numero\"))\n",
        "if a > b:\n",
        "    print(a)\n",
        "else:\n",
        "    print(b)"
      ],
      "metadata": {
        "id": "5CBstS8Bcljw"
      },
      "execution_count": null,
      "outputs": []
    },
    {
      "cell_type": "code",
      "source": [
        "a= int(input(\"digite un numero\"))\n",
        "b= int(input(\"digite otro numero\"))\n",
        "if a > b: print(a)\n",
        "elif a == b: print(\"a y b Son numeros iguales\")\n",
        "else: print(b)"
      ],
      "metadata": {
        "colab": {
          "base_uri": "https://localhost:8080/"
        },
        "id": "k9hohDtycsAP",
        "outputId": "84703eb1-517c-4858-ef6f-090f7efa3caf"
      },
      "execution_count": 37,
      "outputs": [
        {
          "output_type": "stream",
          "name": "stdout",
          "text": [
            "digite un numero12\n",
            "digite otro numero13\n",
            "13\n"
          ]
        }
      ]
    },
    {
      "cell_type": "code",
      "source": [
        "print(a) if (a > b) else  print(b)"
      ],
      "metadata": {
        "colab": {
          "base_uri": "https://localhost:8080/"
        },
        "id": "v8vhawnjdbHm",
        "outputId": "4b994266-d805-48a2-e2a7-ad173cce00eb"
      },
      "execution_count": 40,
      "outputs": [
        {
          "output_type": "stream",
          "name": "stdout",
          "text": [
            "13\n"
          ]
        }
      ]
    },
    {
      "cell_type": "markdown",
      "source": [
        "##4 Escribe un programa que reciba una calificación (0-100) e indique si es Aprobado (>=60) o Reprobado."
      ],
      "metadata": {
        "id": "Z7apvG7keg6c"
      }
    },
    {
      "cell_type": "code",
      "source": [
        "calificacion= int(input(\"digite su calificacion\"))\n",
        "if 0 <= calificacion <= 100:\n",
        "    if calificacion >= 60:\n",
        "        print(\"aprobo\")\n",
        "    else:\n",
        "        print(\"reprobo\")"
      ],
      "metadata": {
        "id": "HpzbVoCbetKc"
      },
      "execution_count": null,
      "outputs": []
    },
    {
      "cell_type": "code",
      "source": [],
      "metadata": {
        "id": "kGLIEtaievrT"
      },
      "execution_count": null,
      "outputs": []
    }
  ]
}