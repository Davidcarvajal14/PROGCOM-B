{
  "nbformat": 4,
  "nbformat_minor": 0,
  "metadata": {
    "colab": {
      "provenance": [],
      "authorship_tag": "ABX9TyMibLxF+9zgxwudsELSwnho",
      "include_colab_link": true
    },
    "kernelspec": {
      "name": "python3",
      "display_name": "Python 3"
    },
    "language_info": {
      "name": "python"
    }
  },
  "cells": [
    {
      "cell_type": "markdown",
      "metadata": {
        "id": "view-in-github",
        "colab_type": "text"
      },
      "source": [
        "<a href=\"https://colab.research.google.com/github/Davidcarvajal14/PROGCOM-B/blob/main/Clase1_Estructuras_de_selecci%C3%B3n.ipynb\" target=\"_parent\"><img src=\"https://colab.research.google.com/assets/colab-badge.svg\" alt=\"Open In Colab\"/></a>"
      ]
    },
    {
      "cell_type": "markdown",
      "source": [
        "#Estructuras de seleccion\n",
        "Se emplean cuando quiero evaluarb una condicion. El resultado de la evaluacion de esta condicion siempre se da en Booleano (V O f)"
      ],
      "metadata": {
        "id": "XnTRpJBFLb68"
      }
    },
    {
      "cell_type": "markdown",
      "source": [
        "## Estructura if-else\n",
        "\n",
        "\n",
        "\n",
        "```\n",
        "if (condicion):\n",
        "    entro aqui si la condicion dio V\n",
        "else:\n",
        "    entro aquyi si la condicion = F\n",
        "```\n",
        "\n"
      ],
      "metadata": {
        "id": "_M6rIutcL0XU"
      }
    },
    {
      "cell_type": "markdown",
      "source": [
        "7. Año bisiesto"
      ],
      "metadata": {
        "id": "109YT9NkMnX7"
      }
    },
    {
      "cell_type": "code",
      "execution_count": null,
      "metadata": {
        "colab": {
          "base_uri": "https://localhost:8080/"
        },
        "id": "NpAmO0CEK7Js",
        "outputId": "fa9d9783-4d23-4064-e618-4da9f2402f23"
      },
      "outputs": [
        {
          "output_type": "stream",
          "name": "stdout",
          "text": [
            "Introduzca un año: 2024\n",
            "2024 es un año bisiesto\n"
          ]
        }
      ],
      "source": [
        "#1. Es divisible entre 4\n",
        "#2. Es divisible entre 400 pero no entre 100\n",
        "año= int(input(\"Introduzca un año: \"))\n",
        "if (año%4==0 and año%100!=0):\n",
        "    print(f\"{año} es un año bisiesto\")\n",
        "else:\n",
        "    if(año%400==0):\n",
        "        print(f\"{año} es un año bisiesto\")\n",
        "    else:\n",
        "        print(f\"{año} No es un año bisiesto\")"
      ]
    },
    {
      "cell_type": "markdown",
      "source": [
        "## Estructura de decision multiplke if-elif-else\n",
        "se emplea cuando hay mas de una decision\n",
        "\n",
        "\n",
        "```\n",
        "if (cond1):\n",
        "    si cond1 es verdadero, entro aqui\n",
        "elif (cond2):\n",
        "    si cond1 es falso, Pero cond2 es verdader, entro aqui\n",
        "elif (cond3):\n",
        "    si cond1 y cond2 son falso, Pero cond3 es verdadero, entro aqui\n",
        "else: si cond1 y cond2 y cond3 y cond n son falsas, entrara aqui.\n",
        "```\n",
        "\n"
      ],
      "metadata": {
        "id": "kmfMwysWO7u3"
      }
    },
    {
      "cell_type": "code",
      "source": [
        "if (año%4==0 and año%100!=0): print(f\"{año} es un año bisiesto\")\n",
        "elif(año%400==0): print(f\"{año} es un año bisiesto\")\n",
        "else:print(f\"{año} No es un año bisiesto\")"
      ],
      "metadata": {
        "colab": {
          "base_uri": "https://localhost:8080/"
        },
        "id": "a9TV74gHQA8V",
        "outputId": "bd39bf57-4c6f-4e0e-9390-bd1787dc68c8"
      },
      "execution_count": null,
      "outputs": [
        {
          "output_type": "stream",
          "name": "stdout",
          "text": [
            "2024 es un año bisiesto\n"
          ]
        }
      ]
    },
    {
      "cell_type": "markdown",
      "source": [
        "## Operadpr terniario\n",
        "programar una estructura de seleccion en una sola linea de codigo\n",
        "\n",
        "\n",
        "```\n",
        "(lo que se debe ejecutar, si la condicion es verdadera) if (condicion) else (lo que se debe ejecutar, si la condicion es falsa)\n",
        "```\n",
        "\n"
      ],
      "metadata": {
        "id": "gFt7_1i_VHmk"
      }
    },
    {
      "cell_type": "code",
      "source": [
        "print(f\"{año} es un año bisiesto\") if (año%4==0 and año%100!=0) else (print(f\"{año} es un año bisiesto\")) if (año%400==0) else (print(f\"{año} No es un año bisiesto\"))"
      ],
      "metadata": {
        "colab": {
          "base_uri": "https://localhost:8080/"
        },
        "id": "ZY5K8VlkVtJr",
        "outputId": "b0ee69bf-a344-4cfd-a4b3-c413610f1c00"
      },
      "execution_count": null,
      "outputs": [
        {
          "output_type": "stream",
          "name": "stdout",
          "text": [
            "2024 es un año bisiesto\n"
          ]
        }
      ]
    },
    {
      "cell_type": "code",
      "source": [
        "c= (f\"{año} es un año bisiesto\") if (año%4==0 and año%100!=0) else d\n",
        "d= (f\"{año} es un año bisiesto\") if (año%400==0) else (f\"{año} No es un año bisiesto\")\n",
        "print(c)"
      ],
      "metadata": {
        "colab": {
          "base_uri": "https://localhost:8080/"
        },
        "id": "k4RdGaazZHO-",
        "outputId": "e7d92b68-305a-4eb4-96e2-993e5b699517"
      },
      "execution_count": null,
      "outputs": [
        {
          "output_type": "stream",
          "name": "stdout",
          "text": [
            "2024 es un año bisiesto\n"
          ]
        }
      ]
    },
    {
      "cell_type": "markdown",
      "source": [
        "##1\tEscribe un programa que reciba un número e indique si es positivo."
      ],
      "metadata": {
        "id": "kWkVFDpWTp-A"
      }
    },
    {
      "cell_type": "code",
      "source": [
        "numero= int(input(\"ingrese un numero\"))\n",
        "if numero > 0:\n",
        "    print(f\"{numero} Es un numero positivo\")\n",
        "else:\n",
        "    print(f\"{numero} No es un numero positivo\")"
      ],
      "metadata": {
        "colab": {
          "base_uri": "https://localhost:8080/"
        },
        "id": "g5CYCpysTyhe",
        "outputId": "04776ce3-1dc7-4574-f217-2ce436864354"
      },
      "execution_count": null,
      "outputs": [
        {
          "output_type": "stream",
          "name": "stdout",
          "text": [
            "ingrese un numero0\n",
            "0 No es un numero positivo\n"
          ]
        }
      ]
    },
    {
      "cell_type": "code",
      "source": [
        "if numero > 0: print(f\"{numero} Es un numero positivo\")\n",
        "elif numero == 0: print(f\"{numero} No es positivo ni negativo, es un numero neutro\")\n",
        "else: print(f\"{numero} No es un numero positivo\")"
      ],
      "metadata": {
        "colab": {
          "base_uri": "https://localhost:8080/"
        },
        "id": "u6HGtuGyUVEG",
        "outputId": "6c255019-eed5-4a59-a032-62f89be76e39"
      },
      "execution_count": null,
      "outputs": [
        {
          "output_type": "stream",
          "name": "stdout",
          "text": [
            "0 No es positivo ni negativo, es un numero neutro\n"
          ]
        }
      ]
    },
    {
      "cell_type": "code",
      "source": [
        "print(f\"{numero} Es un numero positivo\") if (numero > 0) else print(f\"{numero} No es un numero positivo\")"
      ],
      "metadata": {
        "colab": {
          "base_uri": "https://localhost:8080/"
        },
        "id": "y-v_-oRxanej",
        "outputId": "5254f706-6173-45b6-bddf-d3ca54e91fb8"
      },
      "execution_count": null,
      "outputs": [
        {
          "output_type": "stream",
          "name": "stdout",
          "text": [
            "0 No es un numero positivo\n"
          ]
        }
      ]
    },
    {
      "cell_type": "markdown",
      "source": [
        "##2\tEscribe un programa que reciba una edad y determine si la persona es mayor de edad."
      ],
      "metadata": {
        "id": "GNatDI-6WZtC"
      }
    },
    {
      "cell_type": "code",
      "source": [
        "edad= int(input(\"Digita tu edad\"))\n",
        "if edad >= 18:\n",
        "    print(\"eres mayor de edad\")\n",
        "else:\n",
        "    print(\"no eres mayor de edad\")"
      ],
      "metadata": {
        "colab": {
          "base_uri": "https://localhost:8080/"
        },
        "id": "OrmRL5Z7WfNp",
        "outputId": "f50b1e7f-c9bc-4aea-9fdf-6db0de060ea9"
      },
      "execution_count": null,
      "outputs": [
        {
          "output_type": "stream",
          "name": "stdout",
          "text": [
            "Digita tu edad16\n",
            "no eres mayor de edad\n"
          ]
        }
      ]
    },
    {
      "cell_type": "code",
      "source": [
        "if edad >= 21: print(\"eres mayor de edad en USA y Colombia\")\n",
        "elif edad >= 18: print(\"eres mayor de edad en Colombia\")\n",
        "else:print(\"no eres mayor de edad en Colombia ni en USA\")"
      ],
      "metadata": {
        "colab": {
          "base_uri": "https://localhost:8080/"
        },
        "id": "Gbk43fw-Wtcx",
        "outputId": "b7e41f0b-3813-4163-8861-7901e1345b0d"
      },
      "execution_count": null,
      "outputs": [
        {
          "output_type": "stream",
          "name": "stdout",
          "text": [
            "no eres mayor de edad en Colombia ni en USA\n"
          ]
        }
      ]
    },
    {
      "cell_type": "code",
      "source": [
        "print(\"eres mayor de edad\") if (edad >= 18) else print(\"no eres mayor de edad\")"
      ],
      "metadata": {
        "colab": {
          "base_uri": "https://localhost:8080/"
        },
        "id": "aIL182crb5Uh",
        "outputId": "b1c5f2c0-dd5c-4c76-ac69-06ba49e5cbab"
      },
      "execution_count": null,
      "outputs": [
        {
          "output_type": "stream",
          "name": "stdout",
          "text": [
            "no eres mayor de edad\n"
          ]
        }
      ]
    },
    {
      "cell_type": "markdown",
      "source": [
        "## 3\tEscribe un programa que reciba dos números e imprima el mayor."
      ],
      "metadata": {
        "id": "Fw5VbdUecfUI"
      }
    },
    {
      "cell_type": "code",
      "source": [
        "a= int(input(\"digite un numero\"))\n",
        "b= int(input(\"digite otro numero\"))\n",
        "if a > b:\n",
        "    print(a)\n",
        "else:\n",
        "    print(b)"
      ],
      "metadata": {
        "id": "5CBstS8Bcljw"
      },
      "execution_count": null,
      "outputs": []
    },
    {
      "cell_type": "code",
      "source": [
        "a= int(input(\"digite un numero\"))\n",
        "b= int(input(\"digite otro numero\"))\n",
        "if a > b: print(a)\n",
        "elif a == b: print(\"a y b Son numeros iguales\")\n",
        "else: print(b)"
      ],
      "metadata": {
        "colab": {
          "base_uri": "https://localhost:8080/"
        },
        "id": "k9hohDtycsAP",
        "outputId": "84703eb1-517c-4858-ef6f-090f7efa3caf"
      },
      "execution_count": null,
      "outputs": [
        {
          "output_type": "stream",
          "name": "stdout",
          "text": [
            "digite un numero12\n",
            "digite otro numero13\n",
            "13\n"
          ]
        }
      ]
    },
    {
      "cell_type": "code",
      "source": [
        "print(a) if (a > b) else  print(b)"
      ],
      "metadata": {
        "colab": {
          "base_uri": "https://localhost:8080/"
        },
        "id": "v8vhawnjdbHm",
        "outputId": "4b994266-d805-48a2-e2a7-ad173cce00eb"
      },
      "execution_count": null,
      "outputs": [
        {
          "output_type": "stream",
          "name": "stdout",
          "text": [
            "13\n"
          ]
        }
      ]
    },
    {
      "cell_type": "markdown",
      "source": [
        "##4 Escribe un programa que reciba una calificación (0-100) e indique si es Aprobado (>=60) o Reprobado."
      ],
      "metadata": {
        "id": "Z7apvG7keg6c"
      }
    },
    {
      "cell_type": "code",
      "source": [
        "calificacion= int(input(\"digite su calificacion\"))\n",
        "if 0 <= calificacion <= 100:\n",
        "    if calificacion >= 60:\n",
        "        print(\"aprobo\")\n",
        "    else:\n",
        "        print(\"reprobo\")"
      ],
      "metadata": {
        "id": "HpzbVoCbetKc",
        "colab": {
          "base_uri": "https://localhost:8080/"
        },
        "outputId": "790039af-8ba1-4517-fd7e-2eeeda4083e1"
      },
      "execution_count": 10,
      "outputs": [
        {
          "output_type": "stream",
          "name": "stdout",
          "text": [
            "digite su calificacion100\n",
            "aprobo\n"
          ]
        }
      ]
    },
    {
      "cell_type": "code",
      "source": [
        "if  80 <= calificacion <= 100: print(\"aprobo con un excelente rendimiento\")\n",
        "elif 60 <= calificacion < 80: print(\"aprobo\")\n",
        "else: print(\"reprobo\")"
      ],
      "metadata": {
        "id": "kGLIEtaievrT",
        "colab": {
          "base_uri": "https://localhost:8080/"
        },
        "outputId": "523cb23d-ccb0-4f68-99dd-b200cc33e2a0"
      },
      "execution_count": 16,
      "outputs": [
        {
          "output_type": "stream",
          "name": "stdout",
          "text": [
            "aprobo con un excelente rendimiento\n"
          ]
        }
      ]
    },
    {
      "cell_type": "code",
      "source": [
        "print(\"aprobo\") if (60 <= calificacion <= 100) else print(\"reprobo\")"
      ],
      "metadata": {
        "id": "njcOzoZsRT34",
        "outputId": "9d6be1ad-9727-4d09-bd21-a6b83da36ae8",
        "colab": {
          "base_uri": "https://localhost:8080/"
        }
      },
      "execution_count": 41,
      "outputs": [
        {
          "output_type": "stream",
          "name": "stdout",
          "text": [
            "aprobo\n"
          ]
        }
      ]
    },
    {
      "cell_type": "markdown",
      "source": [
        "## 5\tEscribe un programa que determine si un número es par o impar."
      ],
      "metadata": {
        "id": "tChQ-rnVISiM"
      }
    },
    {
      "cell_type": "code",
      "source": [
        "numero1= int(input(\"digite un numero\"))\n",
        "if numero1 % 2 == 0:\n",
        "    print(\"par\")\n",
        "else:\n",
        "    print(\"impar\")"
      ],
      "metadata": {
        "colab": {
          "base_uri": "https://localhost:8080/"
        },
        "id": "P2yAAJOVIYhB",
        "outputId": "3a61520b-b0bc-4e94-eee6-99709aeb61b8"
      },
      "execution_count": 24,
      "outputs": [
        {
          "output_type": "stream",
          "name": "stdout",
          "text": [
            "digite un numero0\n",
            "par\n"
          ]
        }
      ]
    },
    {
      "cell_type": "code",
      "source": [
        "if numero1 == 0: print(\"Se duda si este numero es par o no\")\n",
        "elif numero1 % 2 == 0: print(\"par\")\n",
        "else:print(\"impar\")"
      ],
      "metadata": {
        "colab": {
          "base_uri": "https://localhost:8080/"
        },
        "id": "XEIuUrdbIsKi",
        "outputId": "09db4204-2f3c-4ced-c550-659b967d6fab"
      },
      "execution_count": 28,
      "outputs": [
        {
          "output_type": "stream",
          "name": "stdout",
          "text": [
            "Se duda si este numero es par o no\n"
          ]
        }
      ]
    },
    {
      "cell_type": "code",
      "source": [
        "print(\"par\") if numero1 % 2 == 0 else print(\"impar\")"
      ],
      "metadata": {
        "colab": {
          "base_uri": "https://localhost:8080/"
        },
        "id": "CiEojLgNKI7q",
        "outputId": "d2c2a47f-865b-4cdf-faee-2d2babc8d60c"
      },
      "execution_count": 29,
      "outputs": [
        {
          "output_type": "stream",
          "name": "stdout",
          "text": [
            "par\n"
          ]
        }
      ]
    },
    {
      "cell_type": "markdown",
      "source": [
        "## 6 Escribe un programa que reciba tres números e imprima el mayor de los tres."
      ],
      "metadata": {
        "id": "BAzDYLpAKVpq"
      }
    },
    {
      "cell_type": "code",
      "source": [
        "num1= int(input(\"digite un numero\"))\n",
        "num2= int(input(\"digite un numero\"))\n",
        "num3= int(input(\"digite un numero\"))\n",
        "if num1 > num2:\n",
        "    if num1 > num3:\n",
        "        nummayor = num1\n",
        "if num2 > num1:\n",
        "    if num2 > num3:\n",
        "        nummayor = num2\n",
        "    else:\n",
        "        nummayor = num3\n",
        "print(nummayor)"
      ],
      "metadata": {
        "colab": {
          "base_uri": "https://localhost:8080/"
        },
        "id": "SZ6_JQBWKfEg",
        "outputId": "4b7bcab9-3b26-4031-ebfa-57bde63588ae"
      },
      "execution_count": 37,
      "outputs": [
        {
          "output_type": "stream",
          "name": "stdout",
          "text": [
            "digite un numero12\n",
            "digite un numero18\n",
            "digite un numero22\n",
            "22\n"
          ]
        }
      ]
    },
    {
      "cell_type": "code",
      "source": [
        "if num1 > num2 and num1 > num3: print(num1)\n",
        "elif num2 > num1 and num2 > num3: print(num2)\n",
        "else: print(num3)"
      ],
      "metadata": {
        "colab": {
          "base_uri": "https://localhost:8080/"
        },
        "id": "r0gIwW-WPUJx",
        "outputId": "87744951-936b-4f2e-c6a0-695ddad9bdfa"
      },
      "execution_count": 38,
      "outputs": [
        {
          "output_type": "stream",
          "name": "stdout",
          "text": [
            "22\n"
          ]
        }
      ]
    },
    {
      "cell_type": "code",
      "source": [
        "nummayor = num1 if num1 > num2 and num1 > num3 else num2 if num2 > num1 and num2 > num3 else num3\n",
        "print(nummayor)"
      ],
      "metadata": {
        "colab": {
          "base_uri": "https://localhost:8080/"
        },
        "id": "SiEtE2AdQIIx",
        "outputId": "3053e737-e122-419e-f5cb-6812658fd9b6"
      },
      "execution_count": 45,
      "outputs": [
        {
          "output_type": "stream",
          "name": "stdout",
          "text": [
            "22\n"
          ]
        }
      ]
    },
    {
      "cell_type": "markdown",
      "source": [
        "## 8 Escribe un programa que reciba una contraseña e indique si cumple con las siguientes reglas: más de 8 caracteres, contiene al menos un número y una letra mayúscula."
      ],
      "metadata": {
        "id": "qG4w769WS4IP"
      }
    }
  ]
}