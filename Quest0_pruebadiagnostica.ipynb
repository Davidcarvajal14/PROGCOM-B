{
  "nbformat": 4,
  "nbformat_minor": 0,
  "metadata": {
    "colab": {
      "provenance": []
    },
    "kernelspec": {
      "name": "python3",
      "display_name": "Python 3"
    },
    "language_info": {
      "name": "python"
    }
  },
  "cells": [
    {
      "cell_type": "markdown",
      "source": [
        "##Ejercicios de seleccion"
      ],
      "metadata": {
        "id": "m63ljfNfoON4"
      }
    },
    {
      "cell_type": "markdown",
      "source": [
        "##Parte 1: Estructuras de Decisión (10 ejercicios)"
      ],
      "metadata": {
        "id": "2BXSThE2ptm9"
      }
    },
    {
      "cell_type": "markdown",
      "source": [
        "##1\tEscribe un programa que reciba un número e indique si es positivo."
      ],
      "metadata": {
        "id": "s-NzjW43sY0C"
      }
    },
    {
      "cell_type": "code",
      "execution_count": 4,
      "metadata": {
        "colab": {
          "base_uri": "https://localhost:8080/"
        },
        "id": "vi_-d190nvST",
        "outputId": "61dc0ae4-0ca5-427b-a7c7-a10fe57f3987"
      },
      "outputs": [
        {
          "output_type": "stream",
          "name": "stdout",
          "text": [
            "ingrese un numero-6\n",
            "El numero es negativo\n"
          ]
        }
      ],
      "source": [
        "numero= int(input(\"ingrese un numero\"))\n",
        "if numero > 0:\n",
        "    print(\"El numero es positivo\")\n",
        "else:\n",
        "    print(\"El numero es negativo\")"
      ]
    },
    {
      "cell_type": "markdown",
      "source": [
        "##2\tEscribe un programa que reciba una edad y determine si la persona es mayor de edad."
      ],
      "metadata": {
        "id": "ALTR-SAau73B"
      }
    },
    {
      "cell_type": "markdown",
      "source": [],
      "metadata": {
        "id": "wiEqXSDysR4C"
      }
    },
    {
      "cell_type": "code",
      "source": [
        "edad= int(input(\"Digita tu edad\"))\n",
        "if edad >= 18:\n",
        "    print(\"eres mayor de edad\")\n",
        "else:\n",
        "    print(\"no eres mayor de edad\")"
      ],
      "metadata": {
        "colab": {
          "base_uri": "https://localhost:8080/"
        },
        "id": "QiQ-ZMWKvCMP",
        "outputId": "5e18e5b6-e07a-4b31-8c70-d00f7a4ccfbd"
      },
      "execution_count": 6,
      "outputs": [
        {
          "output_type": "stream",
          "name": "stdout",
          "text": [
            "Digita tu edad18\n",
            "eres mayr de edad\n"
          ]
        }
      ]
    },
    {
      "cell_type": "markdown",
      "source": [
        "## 3\tEscribe un programa que reciba dos números e imprima el mayor."
      ],
      "metadata": {
        "id": "STeTRLcxvhu3"
      }
    },
    {
      "cell_type": "code",
      "source": [
        "a= int(input(\"digite un numero\"))\n",
        "b= int(input(\"digite otro numero\"))\n",
        "if a > b:\n",
        "    print(a)\n",
        "else:\n",
        "    print(b)"
      ],
      "metadata": {
        "colab": {
          "base_uri": "https://localhost:8080/"
        },
        "id": "_rLBqOE4vp1m",
        "outputId": "7168dce0-ec47-45de-8875-4ae2d49e739f"
      },
      "execution_count": 8,
      "outputs": [
        {
          "output_type": "stream",
          "name": "stdout",
          "text": [
            "digite un numero8\n",
            "digite otro numero17\n",
            "17\n"
          ]
        }
      ]
    },
    {
      "cell_type": "markdown",
      "source": [
        "## 4\tEscribe un programa que reciba una calificación (0-100) e indique si es Aprobado (>=60) o Reprobado."
      ],
      "metadata": {
        "id": "CT7Zjovrwiy-"
      }
    },
    {
      "cell_type": "code",
      "source": [
        "calificacion= int(input(\"digite su calificacion\"))\n",
        "if 0 <= calificacion <= 100:\n",
        "    if calificacion >= 60:\n",
        "        print(\"aprobo\")\n",
        "    else:\n",
        "        print(\"reprobo\")"
      ],
      "metadata": {
        "colab": {
          "base_uri": "https://localhost:8080/"
        },
        "id": "TNKRNzwNwqZe",
        "outputId": "8898c4bb-b30a-4d8b-e2fc-8efa386b88d6"
      },
      "execution_count": 14,
      "outputs": [
        {
          "output_type": "stream",
          "name": "stdout",
          "text": [
            "digite su calificacion72\n",
            "aprobo\n"
          ]
        }
      ]
    },
    {
      "cell_type": "markdown",
      "source": [
        "## 5\tEscribe un programa que determine si un número es par o impar."
      ],
      "metadata": {
        "id": "XX8kgORvzDM0"
      }
    },
    {
      "cell_type": "code",
      "source": [
        "numero= int(input(\"digite un numero\"))\n",
        "if numero % 2 == 0:\n",
        "    print(\"par\")\n",
        "else:\n",
        "    print(\"impar\")"
      ],
      "metadata": {
        "colab": {
          "base_uri": "https://localhost:8080/"
        },
        "id": "WRmu2k0UzKW7",
        "outputId": "d3a37c19-06a5-4622-9871-a03a0c9d547f"
      },
      "execution_count": 16,
      "outputs": [
        {
          "output_type": "stream",
          "name": "stdout",
          "text": [
            "digite un numero3\n",
            "impar\n"
          ]
        }
      ]
    },
    {
      "cell_type": "markdown",
      "source": [
        "## 6\tEscribe un programa que reciba tres números e imprima el mayor de los tres."
      ],
      "metadata": {
        "id": "WPZks57E0tIZ"
      }
    },
    {
      "cell_type": "code",
      "source": [
        "numero1= int(input(\"digite un numero\"))\n",
        "numero2= int(input(\"digite un numero\"))\n",
        "numero3= int(input(\"digite un numero\"))\n",
        "if numero1 > numero2,numero3:\n",
        "    print(numero1)\n",
        "if numero2 > numero1,numero3:\n",
        "    print(numero2)\n",
        "if numero3 > numero2,numero1:\n",
        "    print(numero3)"
      ],
      "metadata": {
        "colab": {
          "base_uri": "https://localhost:8080/",
          "height": 111
        },
        "id": "KmUIWM4B04rZ",
        "outputId": "608f998e-1a45-4269-d861-550348f0c7f5"
      },
      "execution_count": 17,
      "outputs": [
        {
          "output_type": "error",
          "ename": "SyntaxError",
          "evalue": "invalid syntax (ipython-input-2193373025.py, line 4)",
          "traceback": [
            "\u001b[0;36m  File \u001b[0;32m\"/tmp/ipython-input-2193373025.py\"\u001b[0;36m, line \u001b[0;32m4\u001b[0m\n\u001b[0;31m    if numero1 > numero2,numero3:\u001b[0m\n\u001b[0m                        ^\u001b[0m\n\u001b[0;31mSyntaxError\u001b[0m\u001b[0;31m:\u001b[0m invalid syntax\n"
          ]
        }
      ]
    }
  ]
}