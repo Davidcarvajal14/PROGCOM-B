{
  "nbformat": 4,
  "nbformat_minor": 0,
  "metadata": {
    "colab": {
      "provenance": [],
      "authorship_tag": "ABX9TyNjoTJ0i68mLr+iIg2rdMwj",
      "include_colab_link": true
    },
    "kernelspec": {
      "name": "python3",
      "display_name": "Python 3"
    },
    "language_info": {
      "name": "python"
    }
  },
  "cells": [
    {
      "cell_type": "markdown",
      "metadata": {
        "id": "view-in-github",
        "colab_type": "text"
      },
      "source": [
        "<a href=\"https://colab.research.google.com/github/Davidcarvajal14/PROGCOM-B/blob/main/Clase_10_POO.ipynb\" target=\"_parent\"><img src=\"https://colab.research.google.com/assets/colab-badge.svg\" alt=\"Open In Colab\"/></a>"
      ]
    },
    {
      "cell_type": "code",
      "execution_count": 13,
      "metadata": {
        "id": "7ReijgYwwkGy"
      },
      "outputs": [],
      "source": [
        "class casa:\n",
        "    def __init__(self,color,num_habitaciones,num_baños,tiene_patio,tiene_parqueadero):\n",
        "        \"\"\"\n",
        "        Constructor de la clase cas\n",
        "        Argumentos:\n",
        "            color(str): definir el color de la casa\n",
        "            num_habitaciones(int): numero de habitaciones\n",
        "            num_baños(int):numero de baños\n",
        "            tiene_patio(bool): si la casa posee patio\n",
        "            tiene_parqueadero(bool): si la casa tiene parqueadero\n",
        "        \"\"\"\n",
        "        self.color=color\n",
        "        self.num_habitaciones=num_habitaciones\n",
        "        self.num_baños=num_baños\n",
        "        self.tiene_patio=tiene_patio\n",
        "        self.tiene_parqueadero=tiene_parqueadero\n",
        "\n",
        "    def describir(self):\n",
        "        \"\"\"\n",
        "        Metodo para describir la casa\n",
        "        \"\"\"\n",
        "        descripcion=f\"La casa es de color {self.color}. Tiene {self.num_habitaciones} habitaciones y {self.num_baños} baños\"\n",
        "\n",
        "        if self.tiene_patio:\n",
        "            descripcion+= \"\\nLa casa posee un patio.\"\n",
        "        if self.tiene_parqueadero:\n",
        "            descriocion+= \"\\nLa casa posee un parqueadero\"\n",
        "        return descripcion\n",
        "    def pintar(self,nuevo_color):\n",
        "        self.color=nuevo_color\n",
        "        print(f\"la casa se pinto de color {self.color}\")"
      ]
    },
    {
      "cell_type": "code",
      "source": [
        "casiita=casa(\"azul\",4,2,True,False)"
      ],
      "metadata": {
        "id": "YWBA6XcU2V_C"
      },
      "execution_count": 14,
      "outputs": []
    },
    {
      "cell_type": "code",
      "source": [
        "casiita.describir()"
      ],
      "metadata": {
        "colab": {
          "base_uri": "https://localhost:8080/",
          "height": 35
        },
        "id": "vjPq4IHv3G1T",
        "outputId": "142d3db8-7726-473f-8627-bb870ed5747c"
      },
      "execution_count": 15,
      "outputs": [
        {
          "output_type": "execute_result",
          "data": {
            "text/plain": [
              "'La casa es de color azul. Tiene 4 habitaciones y 2 baños\\nLa casa posee un patio.'"
            ],
            "application/vnd.google.colaboratory.intrinsic+json": {
              "type": "string"
            }
          },
          "metadata": {},
          "execution_count": 15
        }
      ]
    },
    {
      "cell_type": "code",
      "source": [
        "class Floristeria(casa): #Herencia\n",
        "  def __init__(self,color,num_habitaciones,num_baños,tiene_patio,tiene_parqueadero,nombre,flores):\n",
        "    \"\"\"\n",
        "    Constructor de la clase floristeria\n",
        "    Argumentos:\n",
        "      color(str): color de la floristeria\n",
        "      num_habitaciones(int): número de habitaciones\n",
        "      num_baños(int): número de baños\n",
        "      tiene_patio(bool): si la floristeria posee un patio\n",
        "      tiene_parqueadero(bool): si la floristeria posee un parqueadero\n",
        "      nombre(str): nombre de la floristeria\n",
        "      flores(list): lista de flores\n",
        "    \"\"\"\n",
        "    super().__init__(color,num_habitaciones,num_baños,tiene_patio,tiene_parqueadero)\n",
        "    self.nombre=nombre\n",
        "    self.flores=flores\n",
        "\n",
        "  def describir_floristeria(self):\n",
        "    descripcion_casa=super().describir()\n",
        "    descripcion_floristeria=f\"\\nLa floristeria se llama {self.nombre} y vende las siguientes flores: {', '.join(self.flores)}.\"\n",
        "    return descripcion_casa+descripcion_floristeria\n",
        "\n"
      ],
      "metadata": {
        "id": "mErOkL3G5ig3"
      },
      "execution_count": 18,
      "outputs": []
    },
    {
      "cell_type": "code",
      "source": [
        "mi_floristeria=Floristeria(\"amarilla\",1,1,False,False,\"Floristeria\",[\"tulipán\",\"rosas\",\"girasoles\"])"
      ],
      "metadata": {
        "id": "VWGo6AVE9tvU"
      },
      "execution_count": 19,
      "outputs": []
    },
    {
      "cell_type": "code",
      "source": [
        "mi_floristeria.pintar(\"rosa\")"
      ],
      "metadata": {
        "colab": {
          "base_uri": "https://localhost:8080/"
        },
        "id": "dp_vuXgC90ks",
        "outputId": "44fe6073-1836-43d7-8384-bbe479baaac7"
      },
      "execution_count": 20,
      "outputs": [
        {
          "output_type": "stream",
          "name": "stdout",
          "text": [
            "la casa se pinto de color rosa\n"
          ]
        }
      ]
    }
  ]
}