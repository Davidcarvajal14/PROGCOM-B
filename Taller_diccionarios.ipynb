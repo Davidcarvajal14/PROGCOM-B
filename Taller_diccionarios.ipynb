{
  "nbformat": 4,
  "nbformat_minor": 0,
  "metadata": {
    "colab": {
      "provenance": [],
      "authorship_tag": "ABX9TyOgfp1SUz1LcfYmLdQM/77v",
      "include_colab_link": true
    },
    "kernelspec": {
      "name": "python3",
      "display_name": "Python 3"
    },
    "language_info": {
      "name": "python"
    }
  },
  "cells": [
    {
      "cell_type": "markdown",
      "metadata": {
        "id": "view-in-github",
        "colab_type": "text"
      },
      "source": [
        "<a href=\"https://colab.research.google.com/github/Davidcarvajal14/PROGCOM-B/blob/main/Taller_diccionarios.ipynb\" target=\"_parent\"><img src=\"https://colab.research.google.com/assets/colab-badge.svg\" alt=\"Open In Colab\"/></a>"
      ]
    },
    {
      "cell_type": "markdown",
      "source": [
        "17 Crea una función que reciba un diccionario y retorne el nombre del estudiante con mayor nota."
      ],
      "metadata": {
        "id": "qq_7G-ZXKr3X"
      }
    },
    {
      "cell_type": "code",
      "execution_count": null,
      "metadata": {
        "colab": {
          "base_uri": "https://localhost:8080/"
        },
        "id": "mGgyRRugKln_",
        "outputId": "fe15d8d2-59b7-42d6-e095-6c69a609f924"
      },
      "outputs": [
        {
          "output_type": "stream",
          "name": "stdout",
          "text": [
            "El estudiante con mayor nota es: Luis\n"
          ]
        }
      ],
      "source": [
        "notas = {\"Aldana\": 3.5, \"Luis\": 4.7, \"Tomas\": 4.2, \"Camilo\": 2.9}\n",
        "def estudiante_mayor_nota(notas):\n",
        "    mayor = [nombre for nota, nombre in [(nota, nombre) for nombre, nota in notas.items()] if nota == max(notas.values())][0]\n",
        "print(\"El estudiante con mayor nota es:\", mayor)\n"
      ]
    },
    {
      "cell_type": "markdown",
      "source": [
        "18 Crea una función que reciba un diccionario de productos y retorne los productos con precios mayores a un valor dado."
      ],
      "metadata": {
        "id": "KK5btGR4L_DO"
      }
    },
    {
      "cell_type": "code",
      "source": [
        "productos = {\"pan\": 2000, \"leche\": 3500, \"queso\": 8000, \"arroz\": 4500}\n",
        "valor = 3000\n",
        "def productos_mayores(productos,valor):\n",
        "    mayores = [producto for producto, precio in productos.items() if precio > valor]\n",
        "\n",
        "print(\"Productos mayores a\", valor, \":\", mayores)"
      ],
      "metadata": {
        "colab": {
          "base_uri": "https://localhost:8080/"
        },
        "id": "VNeIK_X-L36e",
        "outputId": "e00dce33-7981-4d34-f768-455a10e18fcb"
      },
      "execution_count": null,
      "outputs": [
        {
          "output_type": "stream",
          "name": "stdout",
          "text": [
            "Productos mayores a 3000 : ['leche', 'queso', 'arroz']\n"
          ]
        }
      ]
    }
  ]
}