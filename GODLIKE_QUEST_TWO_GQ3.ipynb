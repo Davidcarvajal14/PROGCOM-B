{
  "nbformat": 4,
  "nbformat_minor": 0,
  "metadata": {
    "colab": {
      "provenance": [],
      "authorship_tag": "ABX9TyMXFT1Atl7pA1GlqXlxaZ6F",
      "include_colab_link": true
    },
    "kernelspec": {
      "name": "python3",
      "display_name": "Python 3"
    },
    "language_info": {
      "name": "python"
    }
  },
  "cells": [
    {
      "cell_type": "markdown",
      "metadata": {
        "id": "view-in-github",
        "colab_type": "text"
      },
      "source": [
        "<a href=\"https://colab.research.google.com/github/Davidcarvajal14/PROGCOM-B/blob/main/GODLIKE_QUEST_TWO_GQ3.ipynb\" target=\"_parent\"><img src=\"https://colab.research.google.com/assets/colab-badge.svg\" alt=\"Open In Colab\"/></a>"
      ]
    },
    {
      "cell_type": "code",
      "execution_count": 2,
      "metadata": {
        "colab": {
          "base_uri": "https://localhost:8080/"
        },
        "id": "6fezA8uS-48X",
        "outputId": "723f1e7d-f436-48f6-ab91-3232326dd104"
      },
      "outputs": [
        {
          "output_type": "stream",
          "name": "stdout",
          "text": [
            "=== PROGRAMA DE COBERTURA CON FORWARD CAMBIARIO ===\n",
            "Digite el monto en USD que recibirá la empresa: 30000\n",
            "Digite la tasa forward pactada (COP/USD): 4000\n",
            "¿Cuántos escenarios de tasa de mercado desea simular? 3\n",
            "Digite la tasa de mercado 1: 3900\n",
            "Digite la tasa de mercado 2: 3700\n",
            "Digite la tasa de mercado 3: 4100\n",
            "\n",
            "=== RESULTADOS COBERTURA ===\n",
            "Monto en USD: 30000.0\n",
            "Tasa Forward pactada: 4000.0 COP/USD\n",
            "\n",
            "--- Sin cobertura ---\n",
            "Tasa mercado 3900.0 → Valor recibido: 117,000,000 COP\n",
            "Tasa mercado 3700.0 → Valor recibido: 111,000,000 COP\n",
            "Tasa mercado 4100.0 → Valor recibido: 123,000,000 COP\n",
            "\n",
            "--- Con cobertura (Forward) ---\n",
            "Valor recibido asegurado: 120,000,000 COP\n"
          ]
        }
      ],
      "source": [
        "# Programa: Cobertura con Forward cambiario\n",
        "# Autor: Estudiante de Ingeniería Financiera\n",
        "# Objetivo: Calcular la diferencia entre recibir dólares con y sin cobertura\n",
        "\n",
        "def cobertura_forward(monto_usd, tasa_forward, tasas_mercado):\n",
        "    \"\"\"\n",
        "    Calcula el valor recibido por la empresa con y sin cobertura.\n",
        "    \"\"\"\n",
        "    resultados = {}\n",
        "\n",
        "    # Valor asegurado con el forward (siempre fijo)\n",
        "    valor_forward = monto_usd * tasa_forward\n",
        "    resultados[\"Cobertura_Forward\"] = valor_forward\n",
        "\n",
        "    # Valores sin cobertura (según mercado)\n",
        "    valores_sin_cobertura = [monto_usd * t for t in tasas_mercado]\n",
        "    resultados[\"Sin_Cobertura\"] = valores_sin_cobertura\n",
        "\n",
        "    return resultados\n",
        "\n",
        "\n",
        "# ------------------------------\n",
        "# Entrada de datos por el usuario\n",
        "print(\"=== PROGRAMA DE COBERTURA CON FORWARD CAMBIARIO ===\")\n",
        "\n",
        "monto_usd = float(input(\"Digite el monto en USD que recibirá la empresa: \"))\n",
        "tasa_forward = float(input(\"Digite la tasa forward pactada (COP/USD): \"))\n",
        "\n",
        "# Escenarios de mercado (varias tasas spot posibles)\n",
        "num_escenarios = int(input(\"¿Cuántos escenarios de tasa de mercado desea simular? \"))\n",
        "tasas_mercado = []\n",
        "for i in range(num_escenarios):\n",
        "    tasa = float(input(f\"Digite la tasa de mercado {i+1}: \"))\n",
        "    tasas_mercado.append(tasa)\n",
        "\n",
        "# Cálculo\n",
        "resultados = cobertura_forward(monto_usd, tasa_forward, tasas_mercado)\n",
        "\n",
        "# Salida de resultados\n",
        "print(\"\\n=== RESULTADOS COBERTURA ===\")\n",
        "print(f\"Monto en USD: {monto_usd}\")\n",
        "print(f\"Tasa Forward pactada: {tasa_forward} COP/USD\")\n",
        "\n",
        "print(\"\\n--- Sin cobertura ---\")\n",
        "for tasa, valor in zip(tasas_mercado, resultados[\"Sin_Cobertura\"]):\n",
        "    print(f\"Tasa mercado {tasa} → Valor recibido: {valor:,.0f} COP\")\n",
        "\n",
        "print(\"\\n--- Con cobertura (Forward) ---\")\n",
        "print(f\"Valor recibido asegurado: {resultados['Cobertura_Forward']:,.0f} COP\")\n"
      ]
    }
  ]
}