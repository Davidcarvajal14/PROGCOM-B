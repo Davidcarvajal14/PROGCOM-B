{
  "nbformat": 4,
  "nbformat_minor": 0,
  "metadata": {
    "colab": {
      "provenance": [],
      "authorship_tag": "ABX9TyMMQZZMrS6zD3XFm8Evqffy",
      "include_colab_link": true
    },
    "kernelspec": {
      "name": "python3",
      "display_name": "Python 3"
    },
    "language_info": {
      "name": "python"
    }
  },
  "cells": [
    {
      "cell_type": "markdown",
      "metadata": {
        "id": "view-in-github",
        "colab_type": "text"
      },
      "source": [
        "<a href=\"https://colab.research.google.com/github/Davidcarvajal14/PROGCOM-B/blob/main/Clase_2_Estructuras_de_repetici%C3%B3n.ipynb\" target=\"_parent\"><img src=\"https://colab.research.google.com/assets/colab-badge.svg\" alt=\"Open In Colab\"/></a>"
      ]
    },
    {
      "cell_type": "markdown",
      "source": [
        "## Listas\n",
        "Son un conjunto de objetos,\n",
        "**indexado** separado por comas, y encerrado entre []\n",
        "* TODOS LOS ELEMENTOS DENTRO DE UNA LISTA SE EMPIEZA A CONTAR DESDE 0.\n",
        "## Creacion de listas\n",
        "* Forma general: Lista[]\n",
        "* forma manual: animales= [gato,perro,oso]\n",
        "* por conversion: numeros= list(range(10))"
      ],
      "metadata": {
        "id": "6RdgUDXcwvdA"
      }
    },
    {
      "cell_type": "code",
      "source": [
        "lista= []"
      ],
      "metadata": {
        "id": "NGrp4dXeyvYW"
      },
      "execution_count": 3,
      "outputs": []
    },
    {
      "cell_type": "code",
      "source": [
        "type(lista)"
      ],
      "metadata": {
        "colab": {
          "base_uri": "https://localhost:8080/"
        },
        "id": "3RGBGKgTyx_W",
        "outputId": "fe47becd-6729-47de-95de-a47c72ffdec8"
      },
      "execution_count": 4,
      "outputs": [
        {
          "output_type": "execute_result",
          "data": {
            "text/plain": [
              "list"
            ]
          },
          "metadata": {},
          "execution_count": 4
        }
      ]
    },
    {
      "cell_type": "code",
      "source": [
        "zorro=(1,2,3,4)\n",
        "animales= [\"gato\",\"perro\",zorro,\"oso\"]\n",
        "animales"
      ],
      "metadata": {
        "colab": {
          "base_uri": "https://localhost:8080/"
        },
        "id": "nn1Ix8nty1DG",
        "outputId": "712a7669-8b69-43e6-a82a-77edea8fb731"
      },
      "execution_count": 1,
      "outputs": [
        {
          "output_type": "execute_result",
          "data": {
            "text/plain": [
              "['gato', 'perro', (1, 2, 3, 4), 'oso']"
            ]
          },
          "metadata": {},
          "execution_count": 1
        }
      ]
    },
    {
      "cell_type": "code",
      "source": [
        "type(zorro)"
      ],
      "metadata": {
        "id": "s4vlE2uezxMF"
      },
      "execution_count": null,
      "outputs": []
    },
    {
      "cell_type": "code",
      "source": [
        "numero=list(range(10))\n",
        "numero"
      ],
      "metadata": {
        "colab": {
          "base_uri": "https://localhost:8080/"
        },
        "id": "yRaQLAQ4z1tk",
        "outputId": "76e5bd2e-4f78-4992-a180-8aac1ee69f4f"
      },
      "execution_count": 5,
      "outputs": [
        {
          "output_type": "execute_result",
          "data": {
            "text/plain": [
              "[0, 1, 2, 3, 4, 5, 6, 7, 8, 9]"
            ]
          },
          "metadata": {},
          "execution_count": 5
        }
      ]
    },
    {
      "cell_type": "code",
      "source": [
        "range(10)"
      ],
      "metadata": {
        "colab": {
          "base_uri": "https://localhost:8080/"
        },
        "id": "TCgeryHh0ABs",
        "outputId": "7f3c4313-7251-4d83-9fa5-705f5a577962"
      },
      "execution_count": 6,
      "outputs": [
        {
          "output_type": "execute_result",
          "data": {
            "text/plain": [
              "range(0, 10)"
            ]
          },
          "metadata": {},
          "execution_count": 6
        }
      ]
    },
    {
      "cell_type": "code",
      "source": [
        "type(range(10))"
      ],
      "metadata": {
        "colab": {
          "base_uri": "https://localhost:8080/"
        },
        "id": "oGPU_6b00CVF",
        "outputId": "9330abc0-e56b-4d2e-c8e4-85687c299dc1"
      },
      "execution_count": 7,
      "outputs": [
        {
          "output_type": "execute_result",
          "data": {
            "text/plain": [
              "range"
            ]
          },
          "metadata": {},
          "execution_count": 7
        }
      ]
    },
    {
      "cell_type": "markdown",
      "source": [
        "## Estructura para for\n",
        "se usa cuando\n",
        "* Se sabe cuantas veces se repite una accion\n",
        "* Esta compuesta por un contador y condicion\n",
        "* **contador**: Identifica cuantas veces se va a repetir el bucle y con que frecuencia\n",
        "* **condicion**: Evalua cuando se detiene\n",
        "\n",
        "por definicion:\n",
        "\n",
        "\n",
        "```\n",
        "for variable in range(vi, vf+1, paso):\n",
        "    aqui se repite parte del codigo.\n",
        "```\n",
        "Donde\n",
        "1. vi: condicion inicial. Donde arranco\n",
        "a contar\n",
        "2. vf+1: condicion final. Donde dejo de contar+1\n",
        "3. paso: Frecuencia de conteo\n",
        "\n",
        "for para recorrido de lista\n",
        "flor= [\"amapola\",\"rosa\",\"tulipan\",\"orquidea\"]\n",
        "* El para va a iterar tantas veces como elementos tenga la lista\n",
        "* La variable dentro del para, toma como valor, cada elemento de la lista\n",
        "```\n",
        "for variable in lista\n",
        "    variable\n",
        "```\n",
        "\n"
      ],
      "metadata": {
        "id": "FAYJy02Nmq1g"
      }
    },
    {
      "cell_type": "code",
      "execution_count": 12,
      "metadata": {
        "colab": {
          "base_uri": "https://localhost:8080/"
        },
        "id": "ae85yOM9mo-_",
        "outputId": "158765f3-11b4-4eaa-f482-0b66d900fe1a"
      },
      "outputs": [
        {
          "output_type": "stream",
          "name": "stdout",
          "text": [
            "amapola\n",
            "rosa\n",
            "tulipan\n"
          ]
        }
      ],
      "source": [
        "# Creando una lista de nombre flor\n",
        "flor= [\"amapola\",\"rosa\",\"tulipan\",\"orquidea\"]\n",
        "for rosa in flor:\n",
        "    print(rosa)\n",
        "    if rosa == \"tulipan\":\n",
        "        break"
      ]
    },
    {
      "cell_type": "markdown",
      "source": [
        "## Estructura While\n",
        "* Se emplea cuando ** NO SE SABE**  cuantas veces se debe repetir una accion, pero si se conoce su condicion de parada (CP).\n",
        "* Condicion inicial: Donde arranca el ciclo\n",
        "* Condicion final (parada): Que indica donde se detiene el ciclo\n",
        "* Modificador de condicion inicial\n",
        "\n",
        "Estructura del mientras\n",
        "\n",
        "\n",
        "```\n",
        "condicion inicial\n",
        "while(condicion == condicion final):\n",
        "    modificador de condicion inicial\n",
        "```\n",
        "Modificadores de condicion inicial\n",
        "* Banderas: son boleanos\n",
        "* Son pregintas\n",
        "* Son contadores o acumuladores\n",
        "\n"
      ],
      "metadata": {
        "id": "coiiyIR73U9i"
      }
    }
  ]
}