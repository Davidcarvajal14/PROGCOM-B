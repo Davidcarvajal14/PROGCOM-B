{
  "nbformat": 4,
  "nbformat_minor": 0,
  "metadata": {
    "colab": {
      "provenance": [],
      "authorship_tag": "ABX9TyO7dLN6t/mDDdtKupWRsa0H",
      "include_colab_link": true
    },
    "kernelspec": {
      "name": "python3",
      "display_name": "Python 3"
    },
    "language_info": {
      "name": "python"
    }
  },
  "cells": [
    {
      "cell_type": "markdown",
      "metadata": {
        "id": "view-in-github",
        "colab_type": "text"
      },
      "source": [
        "<a href=\"https://colab.research.google.com/github/Davidcarvajal14/PROGCOM-B/blob/main/Clase_2_Estructuras_de_repetici%C3%B3n.ipynb\" target=\"_parent\"><img src=\"https://colab.research.google.com/assets/colab-badge.svg\" alt=\"Open In Colab\"/></a>"
      ]
    },
    {
      "cell_type": "markdown",
      "source": [
        "## Listas\n",
        "Son un conjunto de objetos,\n",
        "**indexado** separado por comas, y encerrado entre []\n",
        "* TODOS LOS ELEMENTOS DENTRO DE UNA LISTA SE EMPIEZA A CONTAR DESDE 0.\n",
        "## Creacion de listas\n",
        "* Forma general: Lista[]\n",
        "* forma manual: animales= [gato,perro,oso]\n",
        "* por conversion: numeros= list(range(10))\n",
        "* son objetos"
      ],
      "metadata": {
        "id": "6RdgUDXcwvdA"
      }
    },
    {
      "cell_type": "code",
      "source": [
        "lista= []"
      ],
      "metadata": {
        "id": "NGrp4dXeyvYW"
      },
      "execution_count": null,
      "outputs": []
    },
    {
      "cell_type": "code",
      "source": [
        "lista= list(range[1,8])"
      ],
      "metadata": {
        "colab": {
          "base_uri": "https://localhost:8080/",
          "height": 141
        },
        "id": "zKlyEWkgP8A5",
        "outputId": "14cd6854-794c-418b-8f1b-0760d78b74fb"
      },
      "execution_count": 2,
      "outputs": [
        {
          "output_type": "error",
          "ename": "TypeError",
          "evalue": "type 'range' is not subscriptable",
          "traceback": [
            "\u001b[0;31m---------------------------------------------------------------------------\u001b[0m",
            "\u001b[0;31mTypeError\u001b[0m                                 Traceback (most recent call last)",
            "\u001b[0;32m/tmp/ipython-input-1980066713.py\u001b[0m in \u001b[0;36m<cell line: 0>\u001b[0;34m()\u001b[0m\n\u001b[0;32m----> 1\u001b[0;31m \u001b[0mlista\u001b[0m\u001b[0;34m=\u001b[0m \u001b[0mlist\u001b[0m\u001b[0;34m(\u001b[0m\u001b[0mrange\u001b[0m\u001b[0;34m[\u001b[0m\u001b[0;36m1\u001b[0m\u001b[0;34m,\u001b[0m\u001b[0;36m8\u001b[0m\u001b[0;34m]\u001b[0m\u001b[0;34m)\u001b[0m\u001b[0;34m\u001b[0m\u001b[0;34m\u001b[0m\u001b[0m\n\u001b[0m",
            "\u001b[0;31mTypeError\u001b[0m: type 'range' is not subscriptable"
          ]
        }
      ]
    },
    {
      "cell_type": "code",
      "source": [
        "lista.count()"
      ],
      "metadata": {
        "colab": {
          "base_uri": "https://localhost:8080/",
          "height": 141
        },
        "id": "v9Adp6FpQcgx",
        "outputId": "6ed43c28-fce0-40eb-fb4f-054c94ebffb0"
      },
      "execution_count": 1,
      "outputs": [
        {
          "output_type": "error",
          "ename": "NameError",
          "evalue": "name 'lista' is not defined",
          "traceback": [
            "\u001b[0;31m---------------------------------------------------------------------------\u001b[0m",
            "\u001b[0;31mNameError\u001b[0m                                 Traceback (most recent call last)",
            "\u001b[0;32m/tmp/ipython-input-453950251.py\u001b[0m in \u001b[0;36m<cell line: 0>\u001b[0;34m()\u001b[0m\n\u001b[0;32m----> 1\u001b[0;31m \u001b[0mlista\u001b[0m\u001b[0;34m.\u001b[0m\u001b[0mcount\u001b[0m\u001b[0;34m(\u001b[0m\u001b[0;34m)\u001b[0m\u001b[0;34m\u001b[0m\u001b[0;34m\u001b[0m\u001b[0m\n\u001b[0m",
            "\u001b[0;31mNameError\u001b[0m: name 'lista' is not defined"
          ]
        }
      ]
    },
    {
      "cell_type": "code",
      "source": [
        "type(lista)"
      ],
      "metadata": {
        "colab": {
          "base_uri": "https://localhost:8080/"
        },
        "id": "3RGBGKgTyx_W",
        "outputId": "fe47becd-6729-47de-95de-a47c72ffdec8"
      },
      "execution_count": null,
      "outputs": [
        {
          "output_type": "execute_result",
          "data": {
            "text/plain": [
              "list"
            ]
          },
          "metadata": {},
          "execution_count": 4
        }
      ]
    },
    {
      "cell_type": "code",
      "source": [
        "zorro=(1,2,3,4)\n",
        "animales= [\"gato\",\"perro\",zorro,\"oso\"]\n",
        "animales"
      ],
      "metadata": {
        "colab": {
          "base_uri": "https://localhost:8080/"
        },
        "id": "nn1Ix8nty1DG",
        "outputId": "712a7669-8b69-43e6-a82a-77edea8fb731"
      },
      "execution_count": null,
      "outputs": [
        {
          "output_type": "execute_result",
          "data": {
            "text/plain": [
              "['gato', 'perro', (1, 2, 3, 4), 'oso']"
            ]
          },
          "metadata": {},
          "execution_count": 1
        }
      ]
    },
    {
      "cell_type": "code",
      "source": [
        "type(zorro)"
      ],
      "metadata": {
        "id": "s4vlE2uezxMF"
      },
      "execution_count": null,
      "outputs": []
    },
    {
      "cell_type": "code",
      "source": [
        "numero=list(range(10))\n",
        "numero"
      ],
      "metadata": {
        "colab": {
          "base_uri": "https://localhost:8080/"
        },
        "id": "yRaQLAQ4z1tk",
        "outputId": "76e5bd2e-4f78-4992-a180-8aac1ee69f4f"
      },
      "execution_count": null,
      "outputs": [
        {
          "output_type": "execute_result",
          "data": {
            "text/plain": [
              "[0, 1, 2, 3, 4, 5, 6, 7, 8, 9]"
            ]
          },
          "metadata": {},
          "execution_count": 5
        }
      ]
    },
    {
      "cell_type": "code",
      "source": [
        "range(10)"
      ],
      "metadata": {
        "colab": {
          "base_uri": "https://localhost:8080/"
        },
        "id": "TCgeryHh0ABs",
        "outputId": "7f3c4313-7251-4d83-9fa5-705f5a577962"
      },
      "execution_count": null,
      "outputs": [
        {
          "output_type": "execute_result",
          "data": {
            "text/plain": [
              "range(0, 10)"
            ]
          },
          "metadata": {},
          "execution_count": 6
        }
      ]
    },
    {
      "cell_type": "code",
      "source": [
        "type(range(10))"
      ],
      "metadata": {
        "colab": {
          "base_uri": "https://localhost:8080/"
        },
        "id": "oGPU_6b00CVF",
        "outputId": "9330abc0-e56b-4d2e-c8e4-85687c299dc1"
      },
      "execution_count": null,
      "outputs": [
        {
          "output_type": "execute_result",
          "data": {
            "text/plain": [
              "range"
            ]
          },
          "metadata": {},
          "execution_count": 7
        }
      ]
    },
    {
      "cell_type": "markdown",
      "source": [
        "## Estructura para for\n",
        "se usa cuando\n",
        "* Se sabe cuantas veces se repite una accion\n",
        "* Esta compuesta por un contador y condicion\n",
        "* **contador**: Identifica cuantas veces se va a repetir el bucle y con que frecuencia\n",
        "* **condicion**: Evalua cuando se detiene\n",
        "\n",
        "por definicion:\n",
        "\n",
        "\n",
        "```\n",
        "for variable in range(vi, vf+1, paso):\n",
        "    aqui se repite parte del codigo.\n",
        "```\n",
        "Donde\n",
        "1. vi: condicion inicial. Donde arranco\n",
        "a contar\n",
        "2. vf+1: condicion final. Donde dejo de contar+1\n",
        "3. paso: Frecuencia de conteo\n",
        "\n",
        "for para recorrido de lista\n",
        "flor= [\"amapola\",\"rosa\",\"tulipan\",\"orquidea\"]\n",
        "* El para va a iterar tantas veces como elementos tenga la lista\n",
        "* La variable dentro del para, toma como valor, cada elemento de la lista\n",
        "```\n",
        "for variable in lista\n",
        "    variable\n",
        "```\n",
        "\n"
      ],
      "metadata": {
        "id": "FAYJy02Nmq1g"
      }
    },
    {
      "cell_type": "code",
      "execution_count": null,
      "metadata": {
        "colab": {
          "base_uri": "https://localhost:8080/"
        },
        "id": "ae85yOM9mo-_",
        "outputId": "158765f3-11b4-4eaa-f482-0b66d900fe1a"
      },
      "outputs": [
        {
          "output_type": "stream",
          "name": "stdout",
          "text": [
            "amapola\n",
            "rosa\n",
            "tulipan\n"
          ]
        }
      ],
      "source": [
        "# Creando una lista de nombre flor\n",
        "flor= [\"amapola\",\"rosa\",\"tulipan\",\"orquidea\"]\n",
        "for rosa in flor:\n",
        "    print(rosa)\n",
        "    if rosa == \"tulipan\":\n",
        "        break #rompe la interaccion."
      ]
    },
    {
      "cell_type": "code",
      "source": [
        "nombre=[]\n",
        "for nombres in range(5):\n",
        "    nombre.append(input(\"ingrese su nombre: \"))"
      ],
      "metadata": {
        "colab": {
          "base_uri": "https://localhost:8080/"
        },
        "id": "udyu2kmnRXrR",
        "outputId": "7c2812e7-b255-41f9-8b56-f0a4091c8b1d"
      },
      "execution_count": 2,
      "outputs": [
        {
          "name": "stdout",
          "output_type": "stream",
          "text": [
            "ingrese su nombre: 1\n",
            "ingrese su nombre: 2\n",
            "ingrese su nombre: 3\n",
            "ingrese su nombre: 4\n",
            "ingrese su nombre: 5\n"
          ]
        }
      ]
    },
    {
      "cell_type": "code",
      "source": [
        "nombre"
      ],
      "metadata": {
        "colab": {
          "base_uri": "https://localhost:8080/"
        },
        "id": "oDX4WNm9Sqtn",
        "outputId": "44baf97f-e5a1-456b-92e3-1d3540ad7b84"
      },
      "execution_count": 3,
      "outputs": [
        {
          "output_type": "execute_result",
          "data": {
            "text/plain": [
              "['1', '2', '3', '4', '5']"
            ]
          },
          "metadata": {},
          "execution_count": 3
        }
      ]
    },
    {
      "cell_type": "markdown",
      "source": [
        "## Estructura While\n",
        "* Se emplea cuando ** NO SE SABE**  cuantas veces se debe repetir una accion, pero si se conoce su condicion de parada (CP).\n",
        "* Condicion inicial: Donde arranca el ciclo\n",
        "* Condicion final (parada): Que indica donde se detiene el ciclo\n",
        "* Modificador de condicion inicial\n",
        "\n",
        "Estructura del mientras\n",
        "\n",
        "\n",
        "```\n",
        "condicion inicial\n",
        "while(condicion == condicion final):\n",
        "    modificador de condicion inicial\n",
        "```\n",
        "Modificadores de condicion inicial\n",
        "* Banderas: son boleanos\n",
        "* Son pregintas\n",
        "* Son contadores o acumuladores\n",
        "\n"
      ],
      "metadata": {
        "id": "coiiyIR73U9i"
      }
    },
    {
      "cell_type": "markdown",
      "source": [
        "##1\tEscribe un programa que imprima los números del 1 al 10."
      ],
      "metadata": {
        "id": "gEv2LrZ9UpzG"
      }
    },
    {
      "cell_type": "code",
      "source": [
        "numeros=[]\n",
        "for numeros in range(1,11):\n",
        "    print(numeros)"
      ],
      "metadata": {
        "colab": {
          "base_uri": "https://localhost:8080/"
        },
        "id": "6KVNVzC5VCbP",
        "outputId": "da38c51f-927a-4bc0-eb90-297ac3bcced0"
      },
      "execution_count": 10,
      "outputs": [
        {
          "output_type": "stream",
          "name": "stdout",
          "text": [
            "1\n",
            "2\n",
            "3\n",
            "4\n",
            "5\n",
            "6\n",
            "7\n",
            "8\n",
            "9\n",
            "10\n"
          ]
        }
      ]
    },
    {
      "cell_type": "code",
      "source": [
        "nums=[1,2,3,4,5,6,7,8,9,10]\n",
        "for numeros in nums:\n",
        "    print(numeros)"
      ],
      "metadata": {
        "colab": {
          "base_uri": "https://localhost:8080/"
        },
        "id": "r1itC-8HV3NG",
        "outputId": "b7d43710-c12a-4dc2-df80-70c4b81c20e6"
      },
      "execution_count": 16,
      "outputs": [
        {
          "output_type": "stream",
          "name": "stdout",
          "text": [
            "1\n",
            "2\n",
            "3\n",
            "4\n",
            "5\n",
            "6\n",
            "7\n",
            "8\n",
            "9\n",
            "10\n"
          ]
        }
      ]
    },
    {
      "cell_type": "markdown",
      "source": [
        "## 2\tEscribe un programa que sume los números del 1 al 100."
      ],
      "metadata": {
        "id": "Omf5-xjDWXQt"
      }
    },
    {
      "cell_type": "code",
      "source": [
        "suma= 0\n",
        "for nums in range (1,101):\n",
        "    suma += nums\n",
        "    print(suma)"
      ],
      "metadata": {
        "colab": {
          "base_uri": "https://localhost:8080/"
        },
        "id": "uCP8RbONWczd",
        "outputId": "5bcf9838-9202-430f-c918-a9a5a6e832d6"
      },
      "execution_count": 15,
      "outputs": [
        {
          "output_type": "stream",
          "name": "stdout",
          "text": [
            "1\n",
            "3\n",
            "6\n",
            "10\n",
            "15\n",
            "21\n",
            "28\n",
            "36\n",
            "45\n",
            "55\n",
            "66\n",
            "78\n",
            "91\n",
            "105\n",
            "120\n",
            "136\n",
            "153\n",
            "171\n",
            "190\n",
            "210\n",
            "231\n",
            "253\n",
            "276\n",
            "300\n",
            "325\n",
            "351\n",
            "378\n",
            "406\n",
            "435\n",
            "465\n",
            "496\n",
            "528\n",
            "561\n",
            "595\n",
            "630\n",
            "666\n",
            "703\n",
            "741\n",
            "780\n",
            "820\n",
            "861\n",
            "903\n",
            "946\n",
            "990\n",
            "1035\n",
            "1081\n",
            "1128\n",
            "1176\n",
            "1225\n",
            "1275\n",
            "1326\n",
            "1378\n",
            "1431\n",
            "1485\n",
            "1540\n",
            "1596\n",
            "1653\n",
            "1711\n",
            "1770\n",
            "1830\n",
            "1891\n",
            "1953\n",
            "2016\n",
            "2080\n",
            "2145\n",
            "2211\n",
            "2278\n",
            "2346\n",
            "2415\n",
            "2485\n",
            "2556\n",
            "2628\n",
            "2701\n",
            "2775\n",
            "2850\n",
            "2926\n",
            "3003\n",
            "3081\n",
            "3160\n",
            "3240\n",
            "3321\n",
            "3403\n",
            "3486\n",
            "3570\n",
            "3655\n",
            "3741\n",
            "3828\n",
            "3916\n",
            "4005\n",
            "4095\n",
            "4186\n",
            "4278\n",
            "4371\n",
            "4465\n",
            "4560\n",
            "4656\n",
            "4753\n",
            "4851\n",
            "4950\n",
            "5050\n"
          ]
        }
      ]
    },
    {
      "cell_type": "code",
      "source": [
        "suma= 0\n",
        "numeros=list(range(101))# Imprimimos numeros desde el 0 hsts el 100\n",
        "for numeros in numeros:\n",
        "    suma += numeros\n",
        "    print(suma)"
      ],
      "metadata": {
        "colab": {
          "base_uri": "https://localhost:8080/"
        },
        "id": "im0e6deSZ04q",
        "outputId": "b2ba4e10-c5a1-4520-ccca-3c087f76cfb0"
      },
      "execution_count": 18,
      "outputs": [
        {
          "output_type": "stream",
          "name": "stdout",
          "text": [
            "0\n",
            "1\n",
            "3\n",
            "6\n",
            "10\n",
            "15\n",
            "21\n",
            "28\n",
            "36\n",
            "45\n",
            "55\n",
            "66\n",
            "78\n",
            "91\n",
            "105\n",
            "120\n",
            "136\n",
            "153\n",
            "171\n",
            "190\n",
            "210\n",
            "231\n",
            "253\n",
            "276\n",
            "300\n",
            "325\n",
            "351\n",
            "378\n",
            "406\n",
            "435\n",
            "465\n",
            "496\n",
            "528\n",
            "561\n",
            "595\n",
            "630\n",
            "666\n",
            "703\n",
            "741\n",
            "780\n",
            "820\n",
            "861\n",
            "903\n",
            "946\n",
            "990\n",
            "1035\n",
            "1081\n",
            "1128\n",
            "1176\n",
            "1225\n",
            "1275\n",
            "1326\n",
            "1378\n",
            "1431\n",
            "1485\n",
            "1540\n",
            "1596\n",
            "1653\n",
            "1711\n",
            "1770\n",
            "1830\n",
            "1891\n",
            "1953\n",
            "2016\n",
            "2080\n",
            "2145\n",
            "2211\n",
            "2278\n",
            "2346\n",
            "2415\n",
            "2485\n",
            "2556\n",
            "2628\n",
            "2701\n",
            "2775\n",
            "2850\n",
            "2926\n",
            "3003\n",
            "3081\n",
            "3160\n",
            "3240\n",
            "3321\n",
            "3403\n",
            "3486\n",
            "3570\n",
            "3655\n",
            "3741\n",
            "3828\n",
            "3916\n",
            "4005\n",
            "4095\n",
            "4186\n",
            "4278\n",
            "4371\n",
            "4465\n",
            "4560\n",
            "4656\n",
            "4753\n",
            "4851\n",
            "4950\n",
            "5050\n"
          ]
        }
      ]
    },
    {
      "cell_type": "markdown",
      "source": [
        "## 3.Escribe un programa que imprima los múltiplos de 3 entre 1 y 30."
      ],
      "metadata": {
        "id": "WPabjRLlcM_A"
      }
    },
    {
      "cell_type": "code",
      "source": [
        "for multiplos in range(1,31):\n",
        "    if multiplos %3==0:\n",
        "        print(multiplos)"
      ],
      "metadata": {
        "colab": {
          "base_uri": "https://localhost:8080/"
        },
        "id": "b5ILUxyFccmY",
        "outputId": "66142fa3-20c7-4c8b-e0d0-155b22ac7625"
      },
      "execution_count": 33,
      "outputs": [
        {
          "output_type": "stream",
          "name": "stdout",
          "text": [
            "3\n",
            "6\n",
            "9\n",
            "12\n",
            "15\n",
            "18\n",
            "21\n",
            "24\n",
            "27\n",
            "30\n"
          ]
        }
      ]
    },
    {
      "cell_type": "code",
      "source": [
        "multiplos=list(range(1,31))\n",
        "for multiplos in multiplos:\n",
        "    if multiplos %3==0:\n",
        "        print(multiplos)"
      ],
      "metadata": {
        "colab": {
          "base_uri": "https://localhost:8080/"
        },
        "id": "KzzC-BxnfXC_",
        "outputId": "21cb11ee-a140-4845-d21a-e283c3466ceb"
      },
      "execution_count": 35,
      "outputs": [
        {
          "output_type": "stream",
          "name": "stdout",
          "text": [
            "3\n",
            "6\n",
            "9\n",
            "12\n",
            "15\n",
            "18\n",
            "21\n",
            "24\n",
            "27\n",
            "30\n"
          ]
        }
      ]
    },
    {
      "cell_type": "markdown",
      "source": [
        "## 4. Escribe un programa que lea un número e imprima su tabla de multiplicar del 1 al 10."
      ],
      "metadata": {
        "id": "fBZbt7m5frX2"
      }
    },
    {
      "cell_type": "code",
      "source": [
        "num1=input(\"Digite un numero\")\n",
        "for num in range (1,11):\n",
        "    resultado= num * num1\n",
        "    print(resultado)\n",
        "\n"
      ],
      "metadata": {
        "colab": {
          "base_uri": "https://localhost:8080/"
        },
        "id": "GPo2w2UWfzUV",
        "outputId": "fb8c519a-74bf-4905-d8fa-e6245f8ec55f"
      },
      "execution_count": 40,
      "outputs": [
        {
          "output_type": "stream",
          "name": "stdout",
          "text": [
            "Digite un numero2\n",
            "2\n",
            "22\n",
            "222\n",
            "2222\n",
            "22222\n",
            "222222\n",
            "2222222\n",
            "22222222\n",
            "222222222\n",
            "2222222222\n"
          ]
        }
      ]
    }
  ]
}