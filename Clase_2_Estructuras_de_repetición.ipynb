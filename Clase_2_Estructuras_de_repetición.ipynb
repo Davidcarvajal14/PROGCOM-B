{
  "nbformat": 4,
  "nbformat_minor": 0,
  "metadata": {
    "colab": {
      "provenance": [],
      "authorship_tag": "ABX9TyO8NOM5nFdaQJFo9r5yJJVI",
      "include_colab_link": true
    },
    "kernelspec": {
      "name": "python3",
      "display_name": "Python 3"
    },
    "language_info": {
      "name": "python"
    }
  },
  "cells": [
    {
      "cell_type": "markdown",
      "metadata": {
        "id": "view-in-github",
        "colab_type": "text"
      },
      "source": [
        "<a href=\"https://colab.research.google.com/github/Davidcarvajal14/PROGCOM-B/blob/main/Clase_2_Estructuras_de_repetici%C3%B3n.ipynb\" target=\"_parent\"><img src=\"https://colab.research.google.com/assets/colab-badge.svg\" alt=\"Open In Colab\"/></a>"
      ]
    },
    {
      "cell_type": "markdown",
      "source": [
        "## Listas\n",
        "Son un conjunto de objetos,\n",
        "**indexado** separado por comas, y encerrado entre []\n",
        "* TODOS LOS ELEMENTOS DENTRO DE UNA LISTA SE EMPIEZA A CONTAR DESDE 0.\n",
        "## Creacion de listas\n",
        "* Forma general: Lista[]\n",
        "* forma manual: animales= [gato,perro,oso]\n",
        "* por conversion: numeros= list(range(10))\n",
        "* son objetos"
      ],
      "metadata": {
        "id": "6RdgUDXcwvdA"
      }
    },
    {
      "cell_type": "code",
      "source": [
        "lista= []"
      ],
      "metadata": {
        "id": "NGrp4dXeyvYW"
      },
      "execution_count": null,
      "outputs": []
    },
    {
      "cell_type": "code",
      "source": [
        "lista= list(range[1,8])"
      ],
      "metadata": {
        "colab": {
          "base_uri": "https://localhost:8080/",
          "height": 141
        },
        "id": "zKlyEWkgP8A5",
        "outputId": "14cd6854-794c-418b-8f1b-0760d78b74fb"
      },
      "execution_count": null,
      "outputs": [
        {
          "output_type": "error",
          "ename": "TypeError",
          "evalue": "type 'range' is not subscriptable",
          "traceback": [
            "\u001b[0;31m---------------------------------------------------------------------------\u001b[0m",
            "\u001b[0;31mTypeError\u001b[0m                                 Traceback (most recent call last)",
            "\u001b[0;32m/tmp/ipython-input-1980066713.py\u001b[0m in \u001b[0;36m<cell line: 0>\u001b[0;34m()\u001b[0m\n\u001b[0;32m----> 1\u001b[0;31m \u001b[0mlista\u001b[0m\u001b[0;34m=\u001b[0m \u001b[0mlist\u001b[0m\u001b[0;34m(\u001b[0m\u001b[0mrange\u001b[0m\u001b[0;34m[\u001b[0m\u001b[0;36m1\u001b[0m\u001b[0;34m,\u001b[0m\u001b[0;36m8\u001b[0m\u001b[0;34m]\u001b[0m\u001b[0;34m)\u001b[0m\u001b[0;34m\u001b[0m\u001b[0;34m\u001b[0m\u001b[0m\n\u001b[0m",
            "\u001b[0;31mTypeError\u001b[0m: type 'range' is not subscriptable"
          ]
        }
      ]
    },
    {
      "cell_type": "code",
      "source": [
        "lista.count()"
      ],
      "metadata": {
        "colab": {
          "base_uri": "https://localhost:8080/",
          "height": 141
        },
        "id": "v9Adp6FpQcgx",
        "outputId": "6ed43c28-fce0-40eb-fb4f-054c94ebffb0"
      },
      "execution_count": null,
      "outputs": [
        {
          "output_type": "error",
          "ename": "NameError",
          "evalue": "name 'lista' is not defined",
          "traceback": [
            "\u001b[0;31m---------------------------------------------------------------------------\u001b[0m",
            "\u001b[0;31mNameError\u001b[0m                                 Traceback (most recent call last)",
            "\u001b[0;32m/tmp/ipython-input-453950251.py\u001b[0m in \u001b[0;36m<cell line: 0>\u001b[0;34m()\u001b[0m\n\u001b[0;32m----> 1\u001b[0;31m \u001b[0mlista\u001b[0m\u001b[0;34m.\u001b[0m\u001b[0mcount\u001b[0m\u001b[0;34m(\u001b[0m\u001b[0;34m)\u001b[0m\u001b[0;34m\u001b[0m\u001b[0;34m\u001b[0m\u001b[0m\n\u001b[0m",
            "\u001b[0;31mNameError\u001b[0m: name 'lista' is not defined"
          ]
        }
      ]
    },
    {
      "cell_type": "code",
      "source": [
        "type(lista)"
      ],
      "metadata": {
        "colab": {
          "base_uri": "https://localhost:8080/"
        },
        "id": "3RGBGKgTyx_W",
        "outputId": "fe47becd-6729-47de-95de-a47c72ffdec8"
      },
      "execution_count": null,
      "outputs": [
        {
          "output_type": "execute_result",
          "data": {
            "text/plain": [
              "list"
            ]
          },
          "metadata": {},
          "execution_count": 4
        }
      ]
    },
    {
      "cell_type": "code",
      "source": [
        "zorro=(1,2,3,4)\n",
        "animales= [\"gato\",\"perro\",zorro,\"oso\"]\n",
        "animales"
      ],
      "metadata": {
        "colab": {
          "base_uri": "https://localhost:8080/"
        },
        "id": "nn1Ix8nty1DG",
        "outputId": "712a7669-8b69-43e6-a82a-77edea8fb731"
      },
      "execution_count": null,
      "outputs": [
        {
          "output_type": "execute_result",
          "data": {
            "text/plain": [
              "['gato', 'perro', (1, 2, 3, 4), 'oso']"
            ]
          },
          "metadata": {},
          "execution_count": 1
        }
      ]
    },
    {
      "cell_type": "code",
      "source": [
        "type(zorro)"
      ],
      "metadata": {
        "id": "s4vlE2uezxMF"
      },
      "execution_count": null,
      "outputs": []
    },
    {
      "cell_type": "code",
      "source": [
        "numero=list(range(10))\n",
        "numero"
      ],
      "metadata": {
        "colab": {
          "base_uri": "https://localhost:8080/"
        },
        "id": "yRaQLAQ4z1tk",
        "outputId": "76e5bd2e-4f78-4992-a180-8aac1ee69f4f"
      },
      "execution_count": null,
      "outputs": [
        {
          "output_type": "execute_result",
          "data": {
            "text/plain": [
              "[0, 1, 2, 3, 4, 5, 6, 7, 8, 9]"
            ]
          },
          "metadata": {},
          "execution_count": 5
        }
      ]
    },
    {
      "cell_type": "code",
      "source": [
        "range(10)"
      ],
      "metadata": {
        "colab": {
          "base_uri": "https://localhost:8080/"
        },
        "id": "TCgeryHh0ABs",
        "outputId": "7f3c4313-7251-4d83-9fa5-705f5a577962"
      },
      "execution_count": null,
      "outputs": [
        {
          "output_type": "execute_result",
          "data": {
            "text/plain": [
              "range(0, 10)"
            ]
          },
          "metadata": {},
          "execution_count": 6
        }
      ]
    },
    {
      "cell_type": "code",
      "source": [
        "type(range(10))"
      ],
      "metadata": {
        "colab": {
          "base_uri": "https://localhost:8080/"
        },
        "id": "oGPU_6b00CVF",
        "outputId": "9330abc0-e56b-4d2e-c8e4-85687c299dc1"
      },
      "execution_count": null,
      "outputs": [
        {
          "output_type": "execute_result",
          "data": {
            "text/plain": [
              "range"
            ]
          },
          "metadata": {},
          "execution_count": 7
        }
      ]
    },
    {
      "cell_type": "markdown",
      "source": [
        "## Estructura para for\n",
        "se usa cuando\n",
        "* Se sabe cuantas veces se repite una accion\n",
        "* Esta compuesta por un contador y condicion\n",
        "* **contador**: Identifica cuantas veces se va a repetir el bucle y con que frecuencia\n",
        "* **condicion**: Evalua cuando se detiene\n",
        "\n",
        "por definicion:\n",
        "\n",
        "\n",
        "```\n",
        "for variable in range(vi, vf+1, paso):\n",
        "    aqui se repite parte del codigo.\n",
        "```\n",
        "Donde\n",
        "1. vi: condicion inicial. Donde arranco\n",
        "a contar\n",
        "2. vf+1: condicion final. Donde dejo de contar+1\n",
        "3. paso: Frecuencia de conteo\n",
        "\n",
        "for para recorrido de lista\n",
        "flor= [\"amapola\",\"rosa\",\"tulipan\",\"orquidea\"]\n",
        "* El para va a iterar tantas veces como elementos tenga la lista\n",
        "* La variable dentro del para, toma como valor, cada elemento de la lista\n",
        "```\n",
        "for variable in lista\n",
        "    variable\n",
        "```\n",
        "\n"
      ],
      "metadata": {
        "id": "FAYJy02Nmq1g"
      }
    },
    {
      "cell_type": "code",
      "execution_count": null,
      "metadata": {
        "colab": {
          "base_uri": "https://localhost:8080/"
        },
        "id": "ae85yOM9mo-_",
        "outputId": "158765f3-11b4-4eaa-f482-0b66d900fe1a"
      },
      "outputs": [
        {
          "output_type": "stream",
          "name": "stdout",
          "text": [
            "amapola\n",
            "rosa\n",
            "tulipan\n"
          ]
        }
      ],
      "source": [
        "# Creando una lista de nombre flor\n",
        "flor= [\"amapola\",\"rosa\",\"tulipan\",\"orquidea\"]\n",
        "for rosa in flor:\n",
        "    print(rosa)\n",
        "    if rosa == \"tulipan\":\n",
        "        break #rompe la interaccion."
      ]
    },
    {
      "cell_type": "code",
      "source": [
        "nombre=[]\n",
        "for nombres in range(5):\n",
        "    nombre.append(input(\"ingrese su nombre: \"))"
      ],
      "metadata": {
        "colab": {
          "base_uri": "https://localhost:8080/"
        },
        "id": "udyu2kmnRXrR",
        "outputId": "7c2812e7-b255-41f9-8b56-f0a4091c8b1d"
      },
      "execution_count": null,
      "outputs": [
        {
          "name": "stdout",
          "output_type": "stream",
          "text": [
            "ingrese su nombre: 1\n",
            "ingrese su nombre: 2\n",
            "ingrese su nombre: 3\n",
            "ingrese su nombre: 4\n",
            "ingrese su nombre: 5\n"
          ]
        }
      ]
    },
    {
      "cell_type": "code",
      "source": [
        "nombre"
      ],
      "metadata": {
        "colab": {
          "base_uri": "https://localhost:8080/"
        },
        "id": "oDX4WNm9Sqtn",
        "outputId": "44baf97f-e5a1-456b-92e3-1d3540ad7b84"
      },
      "execution_count": null,
      "outputs": [
        {
          "output_type": "execute_result",
          "data": {
            "text/plain": [
              "['1', '2', '3', '4', '5']"
            ]
          },
          "metadata": {},
          "execution_count": 3
        }
      ]
    },
    {
      "cell_type": "markdown",
      "source": [
        "## Estructura While\n",
        "* Se emplea cuando ** NO SE SABE**  cuantas veces se debe repetir una accion, pero si se conoce su condicion de parada (CP).\n",
        "* Condicion inicial: Donde arranca el ciclo\n",
        "* Condicion final (parada): Que indica donde se detiene el ciclo\n",
        "* Modificador de condicion inicial\n",
        "\n",
        "Estructura del mientras\n",
        "\n",
        "\n",
        "```\n",
        "condicion inicial\n",
        "while(condicion == condicion final):\n",
        "    modificador de condicion inicial\n",
        "```\n",
        "Modificadores de condicion inicial\n",
        "* Banderas: son boleanos\n",
        "* Son pregintas\n",
        "* Son contadores o acumuladores\n",
        "\n"
      ],
      "metadata": {
        "id": "coiiyIR73U9i"
      }
    },
    {
      "cell_type": "markdown",
      "source": [
        "##1\tEscribe un programa que imprima los números del 1 al 10."
      ],
      "metadata": {
        "id": "gEv2LrZ9UpzG"
      }
    },
    {
      "cell_type": "code",
      "source": [
        "numeros=[]\n",
        "for numeros in range(1,11):\n",
        "    print(numeros)"
      ],
      "metadata": {
        "colab": {
          "base_uri": "https://localhost:8080/"
        },
        "id": "6KVNVzC5VCbP",
        "outputId": "da38c51f-927a-4bc0-eb90-297ac3bcced0"
      },
      "execution_count": null,
      "outputs": [
        {
          "output_type": "stream",
          "name": "stdout",
          "text": [
            "1\n",
            "2\n",
            "3\n",
            "4\n",
            "5\n",
            "6\n",
            "7\n",
            "8\n",
            "9\n",
            "10\n"
          ]
        }
      ]
    },
    {
      "cell_type": "code",
      "source": [
        "nums=[1,2,3,4,5,6,7,8,9,10]\n",
        "for numeros in nums:\n",
        "    print(numeros)"
      ],
      "metadata": {
        "colab": {
          "base_uri": "https://localhost:8080/"
        },
        "id": "r1itC-8HV3NG",
        "outputId": "b7d43710-c12a-4dc2-df80-70c4b81c20e6"
      },
      "execution_count": null,
      "outputs": [
        {
          "output_type": "stream",
          "name": "stdout",
          "text": [
            "1\n",
            "2\n",
            "3\n",
            "4\n",
            "5\n",
            "6\n",
            "7\n",
            "8\n",
            "9\n",
            "10\n"
          ]
        }
      ]
    },
    {
      "cell_type": "markdown",
      "source": [
        "## 2\tEscribe un programa que sume los números del 1 al 100."
      ],
      "metadata": {
        "id": "Omf5-xjDWXQt"
      }
    },
    {
      "cell_type": "code",
      "source": [
        "suma= 0\n",
        "for nums in range (1,101):\n",
        "    suma += nums\n",
        "    print(suma)"
      ],
      "metadata": {
        "colab": {
          "base_uri": "https://localhost:8080/"
        },
        "id": "uCP8RbONWczd",
        "outputId": "5bcf9838-9202-430f-c918-a9a5a6e832d6"
      },
      "execution_count": null,
      "outputs": [
        {
          "output_type": "stream",
          "name": "stdout",
          "text": [
            "1\n",
            "3\n",
            "6\n",
            "10\n",
            "15\n",
            "21\n",
            "28\n",
            "36\n",
            "45\n",
            "55\n",
            "66\n",
            "78\n",
            "91\n",
            "105\n",
            "120\n",
            "136\n",
            "153\n",
            "171\n",
            "190\n",
            "210\n",
            "231\n",
            "253\n",
            "276\n",
            "300\n",
            "325\n",
            "351\n",
            "378\n",
            "406\n",
            "435\n",
            "465\n",
            "496\n",
            "528\n",
            "561\n",
            "595\n",
            "630\n",
            "666\n",
            "703\n",
            "741\n",
            "780\n",
            "820\n",
            "861\n",
            "903\n",
            "946\n",
            "990\n",
            "1035\n",
            "1081\n",
            "1128\n",
            "1176\n",
            "1225\n",
            "1275\n",
            "1326\n",
            "1378\n",
            "1431\n",
            "1485\n",
            "1540\n",
            "1596\n",
            "1653\n",
            "1711\n",
            "1770\n",
            "1830\n",
            "1891\n",
            "1953\n",
            "2016\n",
            "2080\n",
            "2145\n",
            "2211\n",
            "2278\n",
            "2346\n",
            "2415\n",
            "2485\n",
            "2556\n",
            "2628\n",
            "2701\n",
            "2775\n",
            "2850\n",
            "2926\n",
            "3003\n",
            "3081\n",
            "3160\n",
            "3240\n",
            "3321\n",
            "3403\n",
            "3486\n",
            "3570\n",
            "3655\n",
            "3741\n",
            "3828\n",
            "3916\n",
            "4005\n",
            "4095\n",
            "4186\n",
            "4278\n",
            "4371\n",
            "4465\n",
            "4560\n",
            "4656\n",
            "4753\n",
            "4851\n",
            "4950\n",
            "5050\n"
          ]
        }
      ]
    },
    {
      "cell_type": "code",
      "source": [
        "suma= 0\n",
        "numeros=list(range(101))# Imprimimos numeros desde el 0 hsts el 100\n",
        "for numeros in numeros:\n",
        "    suma += numeros\n",
        "    print(suma)"
      ],
      "metadata": {
        "colab": {
          "base_uri": "https://localhost:8080/"
        },
        "id": "im0e6deSZ04q",
        "outputId": "b2ba4e10-c5a1-4520-ccca-3c087f76cfb0"
      },
      "execution_count": null,
      "outputs": [
        {
          "output_type": "stream",
          "name": "stdout",
          "text": [
            "0\n",
            "1\n",
            "3\n",
            "6\n",
            "10\n",
            "15\n",
            "21\n",
            "28\n",
            "36\n",
            "45\n",
            "55\n",
            "66\n",
            "78\n",
            "91\n",
            "105\n",
            "120\n",
            "136\n",
            "153\n",
            "171\n",
            "190\n",
            "210\n",
            "231\n",
            "253\n",
            "276\n",
            "300\n",
            "325\n",
            "351\n",
            "378\n",
            "406\n",
            "435\n",
            "465\n",
            "496\n",
            "528\n",
            "561\n",
            "595\n",
            "630\n",
            "666\n",
            "703\n",
            "741\n",
            "780\n",
            "820\n",
            "861\n",
            "903\n",
            "946\n",
            "990\n",
            "1035\n",
            "1081\n",
            "1128\n",
            "1176\n",
            "1225\n",
            "1275\n",
            "1326\n",
            "1378\n",
            "1431\n",
            "1485\n",
            "1540\n",
            "1596\n",
            "1653\n",
            "1711\n",
            "1770\n",
            "1830\n",
            "1891\n",
            "1953\n",
            "2016\n",
            "2080\n",
            "2145\n",
            "2211\n",
            "2278\n",
            "2346\n",
            "2415\n",
            "2485\n",
            "2556\n",
            "2628\n",
            "2701\n",
            "2775\n",
            "2850\n",
            "2926\n",
            "3003\n",
            "3081\n",
            "3160\n",
            "3240\n",
            "3321\n",
            "3403\n",
            "3486\n",
            "3570\n",
            "3655\n",
            "3741\n",
            "3828\n",
            "3916\n",
            "4005\n",
            "4095\n",
            "4186\n",
            "4278\n",
            "4371\n",
            "4465\n",
            "4560\n",
            "4656\n",
            "4753\n",
            "4851\n",
            "4950\n",
            "5050\n"
          ]
        }
      ]
    },
    {
      "cell_type": "markdown",
      "source": [
        "## 3.Escribe un programa que imprima los múltiplos de 3 entre 1 y 30."
      ],
      "metadata": {
        "id": "WPabjRLlcM_A"
      }
    },
    {
      "cell_type": "code",
      "source": [
        "for multiplos in range(1,31):\n",
        "    if multiplos %3==0:\n",
        "        print(multiplos)"
      ],
      "metadata": {
        "colab": {
          "base_uri": "https://localhost:8080/"
        },
        "id": "b5ILUxyFccmY",
        "outputId": "66142fa3-20c7-4c8b-e0d0-155b22ac7625"
      },
      "execution_count": null,
      "outputs": [
        {
          "output_type": "stream",
          "name": "stdout",
          "text": [
            "3\n",
            "6\n",
            "9\n",
            "12\n",
            "15\n",
            "18\n",
            "21\n",
            "24\n",
            "27\n",
            "30\n"
          ]
        }
      ]
    },
    {
      "cell_type": "code",
      "source": [
        "multiplos=list(range(1,31))\n",
        "for multiplos in multiplos:\n",
        "    if multiplos %3==0:\n",
        "        print(multiplos)"
      ],
      "metadata": {
        "colab": {
          "base_uri": "https://localhost:8080/"
        },
        "id": "KzzC-BxnfXC_",
        "outputId": "21cb11ee-a140-4845-d21a-e283c3466ceb"
      },
      "execution_count": null,
      "outputs": [
        {
          "output_type": "stream",
          "name": "stdout",
          "text": [
            "3\n",
            "6\n",
            "9\n",
            "12\n",
            "15\n",
            "18\n",
            "21\n",
            "24\n",
            "27\n",
            "30\n"
          ]
        }
      ]
    },
    {
      "cell_type": "markdown",
      "source": [
        "## 4. Escribe un programa que lea un número e imprima su tabla de multiplicar del 1 al 10."
      ],
      "metadata": {
        "id": "fBZbt7m5frX2"
      }
    },
    {
      "cell_type": "code",
      "source": [
        "num1=int(input(\"Digite un numero\"))\n",
        "for num in range (1,11):\n",
        "    print(num1*num)"
      ],
      "metadata": {
        "colab": {
          "base_uri": "https://localhost:8080/"
        },
        "id": "GPo2w2UWfzUV",
        "outputId": "3b36aab0-dce1-4032-a9f7-cfe752371af7"
      },
      "execution_count": 2,
      "outputs": [
        {
          "output_type": "stream",
          "name": "stdout",
          "text": [
            "Digite un numero5\n",
            "5\n",
            "10\n",
            "15\n",
            "20\n",
            "25\n",
            "30\n",
            "35\n",
            "40\n",
            "45\n",
            "50\n"
          ]
        }
      ]
    },
    {
      "cell_type": "code",
      "source": [
        "num1=int(input(\"Digite un numero\"))\n",
        "num2= list(range(1,11))\n",
        "for num2 in num2:\n",
        "    print(num1*num2)"
      ],
      "metadata": {
        "id": "LrU604F4P7yk",
        "outputId": "9a90ab1c-b951-417a-bdb0-2c42103c282c",
        "colab": {
          "base_uri": "https://localhost:8080/"
        }
      },
      "execution_count": 3,
      "outputs": [
        {
          "output_type": "stream",
          "name": "stdout",
          "text": [
            "Digite un numero10\n",
            "10\n",
            "20\n",
            "30\n",
            "40\n",
            "50\n",
            "60\n",
            "70\n",
            "80\n",
            "90\n",
            "100\n"
          ]
        }
      ]
    },
    {
      "cell_type": "markdown",
      "source": [
        "## 5 Escribe un programa que pida 5 números al usuario y calcule el promedio."
      ],
      "metadata": {
        "id": "QeyGXZgKQc1g"
      }
    },
    {
      "cell_type": "code",
      "source": [
        "suma=0\n",
        "for num in range (1,6):\n",
        "    num1= float(input(\"Digite un numero\"))\n",
        "    suma += num1\n",
        "promedio= suma / 5\n",
        "print(promedio)"
      ],
      "metadata": {
        "id": "OVGJwcVYQugC",
        "outputId": "f2f25048-8e0d-4b74-f2b4-2add3e989d76",
        "colab": {
          "base_uri": "https://localhost:8080/"
        }
      },
      "execution_count": 12,
      "outputs": [
        {
          "output_type": "stream",
          "name": "stdout",
          "text": [
            "Digite un numero10\n",
            "Digite un numero10\n",
            "Digite un numero10\n",
            "Digite un numero10\n",
            "Digite un numero10\n",
            "10.0\n"
          ]
        }
      ]
    },
    {
      "cell_type": "code",
      "source": [
        "suma=0\n",
        "num=list(range(1,6))\n",
        "for num in num:\n",
        "    num1= float(input(\"Digite un numero\"))\n",
        "    suma += num1\n",
        "promedio= suma / 5\n",
        "print(promedio)"
      ],
      "metadata": {
        "id": "hZaM_b5XTToz",
        "outputId": "db49ac0a-d1bf-4250-a9b4-c2d80456fc6a",
        "colab": {
          "base_uri": "https://localhost:8080/"
        }
      },
      "execution_count": 14,
      "outputs": [
        {
          "output_type": "stream",
          "name": "stdout",
          "text": [
            "Digite un numero50\n",
            "Digite un numero50\n",
            "Digite un numero40\n",
            "Digite un numero40\n",
            "Digite un numero30\n",
            "42.0\n"
          ]
        }
      ]
    },
    {
      "cell_type": "markdown",
      "source": [
        "## 6. Escribe un programa que cuente cuántos números pares hay entre 1 y un número ingresado."
      ],
      "metadata": {
        "id": "wJkLa94lTry5"
      }
    },
    {
      "cell_type": "code",
      "source": [
        "num1= int(input(\"ingrese un numero\"))\n",
        "contador= 0\n",
        "for num in range(1, num1 + 1):\n",
        "    if num %2 == 0:\n",
        "        contador += 1\n",
        "print(contador)"
      ],
      "metadata": {
        "id": "i279B-CtT669",
        "outputId": "c6fa9557-0d6d-43a5-95c3-b8c21092518b",
        "colab": {
          "base_uri": "https://localhost:8080/"
        }
      },
      "execution_count": 24,
      "outputs": [
        {
          "output_type": "stream",
          "name": "stdout",
          "text": [
            "ingrese un numero10\n",
            "5\n"
          ]
        }
      ]
    },
    {
      "cell_type": "code",
      "source": [
        "num1= int(input(\"ingrese un numero\"))\n",
        "contador= 0\n",
        "num2=list(range(1, num1 + 1))\n",
        "for num in num2:\n",
        "    if num %2 == 0:\n",
        "        contador += 1\n",
        "print(contador)"
      ],
      "metadata": {
        "id": "2C1-kDh9WdqQ",
        "outputId": "a90e627c-7abe-4043-af83-9d3a89ca7e8d",
        "colab": {
          "base_uri": "https://localhost:8080/"
        }
      },
      "execution_count": 25,
      "outputs": [
        {
          "output_type": "stream",
          "name": "stdout",
          "text": [
            "ingrese un numero20\n",
            "10\n"
          ]
        }
      ]
    },
    {
      "cell_type": "markdown",
      "source": [
        "## 7. Escribe un programa que solicite contraseñas hasta que el usuario ingrese una válida, formada por su apellido y la longitud de su apellido (“Espinosa8”, por ejemplo)."
      ],
      "metadata": {
        "id": "apGYkPqMWzhT"
      }
    },
    {
      "cell_type": "code",
      "source": [
        "apellido=input(\"ingrese su apellido\")\n",
        "contraseña_valida= apellido+str(len(apellido))\n",
        "for intento in range(10):# 10 intentos\n",
        "        contraseña= input(\"ingrese la contraseña\")\n",
        "        if contraseña == contraseña_valida:\n",
        "            print(contraseña,\"contraseña valida\")\n",
        "            break\n",
        "        else:\n",
        "            print(\"contraseña no valida\")\n",
        "else:\n",
        "    print(\"Se te acabaron los intentos \")"
      ],
      "metadata": {
        "id": "0mju66FBX_NN",
        "outputId": "c95e25f6-75b9-45e3-c145-407a94403882",
        "colab": {
          "base_uri": "https://localhost:8080/"
        }
      },
      "execution_count": 29,
      "outputs": [
        {
          "output_type": "stream",
          "name": "stdout",
          "text": [
            "ingrese su apellidocarvajal\n",
            "ingrese la contraseñacarvajal2\n",
            "contraseña no valida\n",
            "ingrese la contraseñacarvajal7\n",
            "contraseña no valida\n",
            "ingrese la contraseñacarvajal8\n",
            "carvajal8 contraseña valida\n"
          ]
        }
      ]
    },
    {
      "cell_type": "code",
      "source": [
        "apellido=input(\"ingrese su apellido\")\n",
        "contraseña_valida= apellido+str(len(apellido))\n",
        "intentos=list(range(10))\n",
        "for intento in intentos:# 10 intentos\n",
        "        contraseña= input(\"ingrese la contraseña\")\n",
        "        if contraseña == contraseña_valida:\n",
        "            print(contraseña,\"contraseña valida\")\n",
        "            break\n",
        "        else:\n",
        "            print(\"contraseña no valida\")\n",
        "else:\n",
        "    print(\"Se te acabaron los intentos \")"
      ],
      "metadata": {
        "id": "ui7wNaC6bAV0",
        "outputId": "7d1fae1a-eee6-4846-ca7a-db9efecbda59",
        "colab": {
          "base_uri": "https://localhost:8080/"
        }
      },
      "execution_count": 30,
      "outputs": [
        {
          "output_type": "stream",
          "name": "stdout",
          "text": [
            "ingrese su apellidocarvajal\n",
            "ingrese la contraseñacarvajal10\n",
            "contraseña no valida\n",
            "ingrese la contraseñacarvajal8\n",
            "carvajal8 contraseña valida\n"
          ]
        }
      ]
    },
    {
      "cell_type": "markdown",
      "source": [
        "## 8 Escribe un programa que imprima los primeros n números de la serie de Fibonacci."
      ],
      "metadata": {
        "id": "z1f5Q3lBb1M8"
      }
    },
    {
      "cell_type": "code",
      "source": [
        "n=int(input(\"escribe la cantidad de numeros finobacci a mostrar: \"))\n",
        "a=0\n",
        "b=1\n",
        "for num in range(n):\n",
        "    print(a)\n",
        "    siguientenum= a+b\n",
        "    a=b\n",
        "    b=siguientenum"
      ],
      "metadata": {
        "id": "RCP3Y1mzb0nr",
        "outputId": "86b32b29-9ef3-4dcb-e17b-f836c8c588da",
        "colab": {
          "base_uri": "https://localhost:8080/"
        }
      },
      "execution_count": 33,
      "outputs": [
        {
          "output_type": "stream",
          "name": "stdout",
          "text": [
            "escribe la cantidad de numeros finobacci a mostrar: 20\n",
            "0\n",
            "1\n",
            "1\n",
            "2\n",
            "3\n",
            "5\n",
            "8\n",
            "13\n",
            "21\n",
            "34\n",
            "55\n",
            "89\n",
            "144\n",
            "233\n",
            "377\n",
            "610\n",
            "987\n",
            "1597\n",
            "2584\n",
            "4181\n"
          ]
        }
      ]
    },
    {
      "cell_type": "code",
      "source": [
        "n=int(input(\"escribe la cantidad de numeros finobacci a mostrar: \"))\n",
        "a=0\n",
        "b=1\n",
        "num2=list(range(n))\n",
        "for num in num2:\n",
        "    print(a)\n",
        "    siguientenum= a+b\n",
        "    a=b\n",
        "    b=siguientenum"
      ],
      "metadata": {
        "id": "p_Im3_JlemVA",
        "outputId": "52557985-477f-4fe7-db4a-577789348afc",
        "colab": {
          "base_uri": "https://localhost:8080/"
        }
      },
      "execution_count": 35,
      "outputs": [
        {
          "output_type": "stream",
          "name": "stdout",
          "text": [
            "escribe la cantidad de numeros finobacci a mostrar: 9\n",
            "0\n",
            "1\n",
            "1\n",
            "2\n",
            "3\n",
            "5\n",
            "8\n",
            "13\n",
            "21\n"
          ]
        }
      ]
    }
  ]
}