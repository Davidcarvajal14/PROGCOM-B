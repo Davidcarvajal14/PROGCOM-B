{
  "nbformat": 4,
  "nbformat_minor": 0,
  "metadata": {
    "colab": {
      "provenance": [],
      "authorship_tag": "ABX9TyO+wSytyY4obHV/WvekAEBd",
      "include_colab_link": true
    },
    "kernelspec": {
      "name": "python3",
      "display_name": "Python 3"
    },
    "language_info": {
      "name": "python"
    }
  },
  "cells": [
    {
      "cell_type": "markdown",
      "metadata": {
        "id": "view-in-github",
        "colab_type": "text"
      },
      "source": [
        "<a href=\"https://colab.research.google.com/github/Davidcarvajal14/PROGCOM-B/blob/main/Lista_Taller.ipynb\" target=\"_parent\"><img src=\"https://colab.research.google.com/assets/colab-badge.svg\" alt=\"Open In Colab\"/></a>"
      ]
    },
    {
      "cell_type": "markdown",
      "source": [
        "## Taller: Resolver los siguientes ejercicios usando listas por comprensión\n",
        "\n",
        "1. Crear una lista con los cuadrados de los números del 1 al 10.\n",
        "2. Obtener una lista con los números pares del 0 al 20.\n",
        "3. Crear una lista con el doble de cada número del 1 al 5.\n",
        "4. De la palabra \"programacion\", obtener solo las vocales.\n",
        "5. Dada la lista [\"python\", \"java\", \"c++\"], obtener otra lista con las palabras en mayúsculas.\n",
        "6. Crear una lista con \"par\" o \"impar\" para los números del 1 al 10.\n",
        "7. Generar una lista de tuplas con el número y su cuadrado del 1 al 5.\n",
        "8. Crear una lista con todas las combinaciones de letras en [\"a\",\"b\"] y números en [1,2,3].\n",
        "9. De la lista [\"sol\", \"estrella\", \"mar\", \"planeta\"], obtener solo las palabras con más de 4 letras.\n",
        "10. Clasificar la temperatura de una lista. Si la temperatura es menor a 26, el clima es \"frío\". Si está entre 26 a 29, es \"templado\". Si es mayor a 29, el clima es \"caliente\""
      ],
      "metadata": {
        "id": "8GWldtTUnDFD"
      }
    },
    {
      "cell_type": "code",
      "execution_count": 2,
      "metadata": {
        "colab": {
          "base_uri": "https://localhost:8080/"
        },
        "id": "veOHyma4nBxW",
        "outputId": "f9dbdae2-f515-4998-c3d3-6e2ac9eab35f"
      },
      "outputs": [
        {
          "output_type": "execute_result",
          "data": {
            "text/plain": [
              "[1, 4, 9, 16, 25, 36, 49, 64, 81, 100]"
            ]
          },
          "metadata": {},
          "execution_count": 2
        }
      ],
      "source": [
        "#1.Crear una lista con los cuadrados de los números del 1 al 10.\n",
        "cuadrados = [j ** 2 for j in range(1,11)]\n",
        "cuadrados"
      ]
    },
    {
      "cell_type": "code",
      "source": [
        "#2.Obtener una lista con los números pares del 0 al 20.\n",
        "NumerosPares = [j for j in range(1,21) if j%2 == 0]\n",
        "NumerosPares"
      ],
      "metadata": {
        "colab": {
          "base_uri": "https://localhost:8080/"
        },
        "id": "lt89BjMvnuC9",
        "outputId": "d8c59171-8c5c-4223-e5b1-691b2bca7e41"
      },
      "execution_count": 3,
      "outputs": [
        {
          "output_type": "execute_result",
          "data": {
            "text/plain": [
              "[2, 4, 6, 8, 10, 12, 14, 16, 18, 20]"
            ]
          },
          "metadata": {},
          "execution_count": 3
        }
      ]
    },
    {
      "cell_type": "code",
      "source": [
        "#3.Crear una lista con el doble de cada número del 1 al 5.\n",
        "NumerosDobles = [k * 2 for k in range(1,6)]\n",
        "NumerosDobles"
      ],
      "metadata": {
        "colab": {
          "base_uri": "https://localhost:8080/"
        },
        "id": "uInhG16Vn2vj",
        "outputId": "43b35bfc-419f-410b-cc19-f76005b8eba8"
      },
      "execution_count": 4,
      "outputs": [
        {
          "output_type": "execute_result",
          "data": {
            "text/plain": [
              "[2, 4, 6, 8, 10]"
            ]
          },
          "metadata": {},
          "execution_count": 4
        }
      ]
    },
    {
      "cell_type": "code",
      "source": [
        "#4. De la palabra \"programacion\", obtener solo las vocales.\n",
        "palabra = \"programacion\"\n",
        "vocales = [letra for letra in palabra if letra in \"aeiou\"]\n",
        "vocales"
      ],
      "metadata": {
        "colab": {
          "base_uri": "https://localhost:8080/"
        },
        "id": "Pj7tyriCn-Vz",
        "outputId": "fdf57bb9-0bcc-4e31-affb-2774135bbcd7"
      },
      "execution_count": 5,
      "outputs": [
        {
          "output_type": "execute_result",
          "data": {
            "text/plain": [
              "['o', 'a', 'a', 'i', 'o']"
            ]
          },
          "metadata": {},
          "execution_count": 5
        }
      ]
    },
    {
      "cell_type": "code",
      "source": [
        "#5. Dada la lista [\"python\", \"java\", \"c++\"], obtener otra lista con las palabras en mayúsculas.\n",
        "Programas = [\"python\", \"java\", \"c++\"]\n",
        "Mayúsculas = [j.upper() for j in Programas]\n",
        "Mayúsculas"
      ],
      "metadata": {
        "colab": {
          "base_uri": "https://localhost:8080/"
        },
        "id": "E5gyxCZooH9i",
        "outputId": "cf3c28af-7dfd-41df-a243-98a9489f1a57"
      },
      "execution_count": 6,
      "outputs": [
        {
          "output_type": "execute_result",
          "data": {
            "text/plain": [
              "['PYTHON', 'JAVA', 'C++']"
            ]
          },
          "metadata": {},
          "execution_count": 6
        }
      ]
    },
    {
      "cell_type": "code",
      "source": [
        "#6. Crear una lista con \"par\" o \"impar\" para los números del 1 al 10.\n",
        "ListaNumeros = [1,2,3,4,5,6,7,8,9,10]\n",
        "clasificacion = [(\"par\",h) if h%2==0 else (\"impar\",h) for h in ListaNumeros]\n",
        "clasificacion"
      ],
      "metadata": {
        "colab": {
          "base_uri": "https://localhost:8080/"
        },
        "id": "pWyDxwiMoQh8",
        "outputId": "b85aa11b-8c07-4f07-8560-2fbd41108b65"
      },
      "execution_count": 7,
      "outputs": [
        {
          "output_type": "execute_result",
          "data": {
            "text/plain": [
              "[('impar', 1),\n",
              " ('par', 2),\n",
              " ('impar', 3),\n",
              " ('par', 4),\n",
              " ('impar', 5),\n",
              " ('par', 6),\n",
              " ('impar', 7),\n",
              " ('par', 8),\n",
              " ('impar', 9),\n",
              " ('par', 10)]"
            ]
          },
          "metadata": {},
          "execution_count": 7
        }
      ]
    },
    {
      "cell_type": "code",
      "source": [
        "#7. Generar una lista de tuplas con el número y su cuadrado del 1 al 5.\n",
        "ListaNumeros = [1,2,3,4,5]\n",
        "NumerosCuadrados = [(r, \"su cuadrado es\" ,r**2 ) for r in ListaNumeros]\n",
        "NumerosCuadrados"
      ],
      "metadata": {
        "colab": {
          "base_uri": "https://localhost:8080/"
        },
        "id": "y51k3aL9okrW",
        "outputId": "34985160-dd6b-4964-cd4a-589560e8ff65"
      },
      "execution_count": 8,
      "outputs": [
        {
          "output_type": "execute_result",
          "data": {
            "text/plain": [
              "[(1, 'su cuadrado es', 1),\n",
              " (2, 'su cuadrado es', 4),\n",
              " (3, 'su cuadrado es', 9),\n",
              " (4, 'su cuadrado es', 16),\n",
              " (5, 'su cuadrado es', 25)]"
            ]
          },
          "metadata": {},
          "execution_count": 8
        }
      ]
    },
    {
      "cell_type": "code",
      "source": [
        "#8. Crear una lista con todas las combinaciones de letras en [\"a\",\"b\"] y números en [1,2,3].\n",
        "Letras = [\"a\",\"b\"]\n",
        "Numeros = [1,2,3]\n",
        "Combinados = [(letra,Numero) for letra in Letras for Numero in Numeros]\n",
        "Combinados"
      ],
      "metadata": {
        "colab": {
          "base_uri": "https://localhost:8080/"
        },
        "id": "YzMKBG_9ouRT",
        "outputId": "9004219e-d361-4a67-af4c-04ce4a7c10a5"
      },
      "execution_count": 9,
      "outputs": [
        {
          "output_type": "execute_result",
          "data": {
            "text/plain": [
              "[('a', 1), ('a', 2), ('a', 3), ('b', 1), ('b', 2), ('b', 3)]"
            ]
          },
          "metadata": {},
          "execution_count": 9
        }
      ]
    },
    {
      "cell_type": "code",
      "source": [
        "#9. De la lista [\"sol\", \"estrella\", \"mar\", \"planeta\"], obtener solo las palabras con más de 4 letras.\n",
        "palabras =[\"sol\", \"estrella\", \"mar\", \"planeta\"]\n",
        "filtro = [k for k in palabras if len(k) > 4]\n",
        "filtro"
      ],
      "metadata": {
        "colab": {
          "base_uri": "https://localhost:8080/"
        },
        "id": "g0TZxA42o3FJ",
        "outputId": "6cba1bcc-02c9-405a-b13c-9979cd245364"
      },
      "execution_count": 13,
      "outputs": [
        {
          "output_type": "execute_result",
          "data": {
            "text/plain": [
              "['estrella', 'planeta']"
            ]
          },
          "metadata": {},
          "execution_count": 13
        }
      ]
    },
    {
      "cell_type": "code",
      "source": [
        "# 10. Clasificar la temperatura de una lista. Si la temperatura es menor a 26, el clima es \"frío\". Si está entre 26 a 29, es \"templado\". Si es mayor a 29, el clima es \"caliente\"\n",
        "n=list(range(1,31))\n",
        "lista10=[(\"frío\",r) if r<26 else (\"templado\",r) if r>=26 and r<=29 else (\"caliente\",r) for r in n]\n",
        "lista10"
      ],
      "metadata": {
        "colab": {
          "base_uri": "https://localhost:8080/"
        },
        "id": "B5DtfsPcpKE9",
        "outputId": "3814b21a-35dc-42c9-a3e5-455056e12163"
      },
      "execution_count": 14,
      "outputs": [
        {
          "output_type": "execute_result",
          "data": {
            "text/plain": [
              "[('frío', 1),\n",
              " ('frío', 2),\n",
              " ('frío', 3),\n",
              " ('frío', 4),\n",
              " ('frío', 5),\n",
              " ('frío', 6),\n",
              " ('frío', 7),\n",
              " ('frío', 8),\n",
              " ('frío', 9),\n",
              " ('frío', 10),\n",
              " ('frío', 11),\n",
              " ('frío', 12),\n",
              " ('frío', 13),\n",
              " ('frío', 14),\n",
              " ('frío', 15),\n",
              " ('frío', 16),\n",
              " ('frío', 17),\n",
              " ('frío', 18),\n",
              " ('frío', 19),\n",
              " ('frío', 20),\n",
              " ('frío', 21),\n",
              " ('frío', 22),\n",
              " ('frío', 23),\n",
              " ('frío', 24),\n",
              " ('frío', 25),\n",
              " ('templado', 26),\n",
              " ('templado', 27),\n",
              " ('templado', 28),\n",
              " ('templado', 29),\n",
              " ('caliente', 30)]"
            ]
          },
          "metadata": {},
          "execution_count": 14
        }
      ]
    }
  ]
}